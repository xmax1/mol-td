{
 "cells": [
  {
   "cell_type": "code",
   "execution_count": 11,
   "metadata": {},
   "outputs": [],
   "source": [
    "import numpy as np\n",
    "import pandas as pd\n",
    "import re"
   ]
  },
  {
   "cell_type": "code",
   "execution_count": 13,
   "metadata": {},
   "outputs": [],
   "source": [
    "ts=['LSTM', 'GRU']\n",
    "nts=[5, 10]\n",
    "eds=[1, 2]\n",
    "tls=[1, 2]\n",
    "nes=(20, 40)\n",
    "nls=(1, 2, 3)\n",
    "y_stds=(0.5, 1.0)\n",
    "betas=(1, 2000, 8000)\n",
    "scs=('--skip_connections', '')\n",
    "bss=(32, 128)\n",
    "\n",
    "run='./run.sh'\n",
    "# --array=0-15%4\n",
    "\n",
    "cmds = []\n",
    "for t in ts:\n",
    "    for nt in nts:\n",
    "        for ed in eds: \n",
    "            for tl in tls:\n",
    "                for ne in nes:\n",
    "                    for nl in nls:\n",
    "                        for y_std in y_stds:\n",
    "                            for beta in betas:\n",
    "                                for sc in scs:\n",
    "                                    for bs in bss:\n",
    "                                        # cmd = f'{run} \\\n",
    "                                        #         --job-name=5mLong-ikr \\\n",
    "                                        cmd = f'--wb \\\n",
    "                                                -t {t} \\\n",
    "                                                -nt {nt} \\\n",
    "                                                -el {ed} \\\n",
    "                                                -dl {ed} \\\n",
    "                                                -tl {tl} \\\n",
    "                                                -ne {ne} \\\n",
    "                                                -nl {nl} \\\n",
    "                                                -y_std {y_std} \\\n",
    "                                                -b {beta} \\\n",
    "                                                {sc} \\\n",
    "                                                -bs {bs} \\\n",
    "                                                -g initial_sweep1 \\\n",
    "                                                -p TimeDynamics'\n",
    "                                        cmds.append(cmd)\n",
    "\n",
    "# import re\n",
    "# test = '     Good    Sh ow     '\n",
    "# re.sub(r'\\s+', ' ', test)\n",
    "\n",
    "with open('experiments.txt', 'w') as f:\n",
    "    for cmd in cmds:\n",
    "        f.write(re.sub(r'\\s+', ' ', cmd))\n",
    "        f.write('\\n')\n",
    "\n"
   ]
  },
  {
   "cell_type": "code",
   "execution_count": 7,
   "metadata": {},
   "outputs": [
    {
     "name": "stdout",
     "output_type": "stream",
     "text": [
      "E (133770, 1)\n",
      "name ()\n",
      "F (133770, 12, 3)\n",
      "theory ()\n",
      "R (133770, 12, 3)\n",
      "z (12,)\n",
      "type ()\n",
      "md5 ()\n"
     ]
    }
   ],
   "source": [
    "npz_data = np.load('./data/uracil_dft.npz')\n",
    "# data = pd.DataFrame.from_dict(dict(npz_data))\n",
    "for k, v in npz_data.items():\n",
    "    print(k, v.shape)\n"
   ]
  },
  {
   "cell_type": "code",
   "execution_count": null,
   "metadata": {},
   "outputs": [],
   "source": []
  }
 ],
 "metadata": {
  "interpreter": {
   "hash": "a176005efc6340d6f651f92e427305c0c77418f591408071800ce94934a5505a"
  },
  "kernelspec": {
   "display_name": "Python 3.10.3 ('td')",
   "language": "python",
   "name": "python3"
  },
  "language_info": {
   "codemirror_mode": {
    "name": "ipython",
    "version": 3
   },
   "file_extension": ".py",
   "mimetype": "text/x-python",
   "name": "python",
   "nbconvert_exporter": "python",
   "pygments_lexer": "ipython3",
   "version": "3.10.3"
  },
  "orig_nbformat": 4
 },
 "nbformat": 4,
 "nbformat_minor": 2
}
