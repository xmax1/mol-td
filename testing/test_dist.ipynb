{
 "cells": [
  {
   "cell_type": "code",
   "execution_count": 23,
   "metadata": {},
   "outputs": [],
   "source": [
    "\n",
    "\n",
    "from jax import numpy as jnp\n",
    "from tensorflow_probability.substrates.jax import distributions as tfd\n",
    "import jax.random as rnd\n",
    "key = rnd.PRNGKey(1)\n",
    "key1, key2 = rnd.split(key, 2)\n",
    "shape = (1, 5)\n"
   ]
  },
  {
   "cell_type": "code",
   "execution_count": 28,
   "metadata": {},
   "outputs": [
    {
     "name": "stdout",
     "output_type": "stream",
     "text": [
      "[[ 0.9087967  -0.040249    0.17204419 -1.6576358   0.353745  ]]\n",
      "[[0.21586019 0.55759454 0.52032065 0.33626488 2.129472  ]]\n",
      "[[-0.9189385 -0.9189385 -0.9189385 -0.9189385 -0.9189385]]\n"
     ]
    }
   ],
   "source": [
    "mean = rnd.normal(key1, shape)\n",
    "std = jnp.abs(rnd.normal(key2, shape))\n",
    "print(mean)\n",
    "print(std)\n",
    "dist = tfd.Normal(mean, 1.)\n",
    "log_prob = dist.log_prob(mean)\n",
    "print(log_prob)"
   ]
  },
  {
   "cell_type": "code",
   "execution_count": 24,
   "metadata": {},
   "outputs": [],
   "source": [
    "mean = rnd.normal(key1, shape)\n",
    "std = jnp.abs(rnd.normal(key2, shape))\n",
    "\n",
    "\n",
    "prior1 = tfd.Independent(tfd.Normal(jnp.zeros(shape), jnp.ones(shape)))\n",
    "dist1 = tfd.Independent(tfd.Normal(mean, std))\n",
    "prior = tfd.Normal(jnp.zeros(shape), jnp.ones(shape))\n",
    "dist = tfd.Normal(mean, std)\n",
    "# print(mean, std)\n",
    "\n"
   ]
  },
  {
   "cell_type": "code",
   "execution_count": 25,
   "metadata": {},
   "outputs": [
    {
     "name": "stderr",
     "output_type": "stream",
     "text": [
      "WARNING:root:The use of `check_types` is deprecated and does not have any effect.\n",
      "WARNING:root:The use of `check_types` is deprecated and does not have any effect.\n",
      "WARNING:root:The use of `check_types` is deprecated and does not have any effect.\n",
      "WARNING:root:The use of `check_types` is deprecated and does not have any effect.\n",
      "WARNING:root:The use of `check_types` is deprecated and does not have any effect.\n",
      "WARNING:root:The use of `check_types` is deprecated and does not have any effect.\n",
      "WARNING:root:The use of `check_types` is deprecated and does not have any effect.\n",
      "WARNING:root:The use of `check_types` is deprecated and does not have any effect.\n",
      "WARNING:root:The use of `check_types` is deprecated and does not have any effect.\n",
      "WARNING:root:The use of `check_types` is deprecated and does not have any effect.\n",
      "WARNING:root:The use of `check_types` is deprecated and does not have any effect.\n",
      "WARNING:root:The use of `check_types` is deprecated and does not have any effect.\n",
      "WARNING:root:The use of `check_types` is deprecated and does not have any effect.\n"
     ]
    },
    {
     "name": "stdout",
     "output_type": "stream",
     "text": [
      "[0.]\n"
     ]
    }
   ],
   "source": [
    "ind_kl = dist1.kl_divergence(prior1)\n",
    "kl = dist.kl_divergence(prior).sum(-1)\n",
    "\n",
    "print(ind_kl - kl)"
   ]
  },
  {
   "cell_type": "code",
   "execution_count": 26,
   "metadata": {},
   "outputs": [
    {
     "name": "stdout",
     "output_type": "stream",
     "text": [
      "[-1.4901531] [[ 0.6141858  -0.33481532 -0.26562852  0.17091763 -1.6748126 ]]\n"
     ]
    }
   ],
   "source": [
    "print(dist1.log_prob(mean), dist.log_prob(mean))"
   ]
  },
  {
   "cell_type": "code",
   "execution_count": 21,
   "metadata": {},
   "outputs": [
    {
     "name": "stderr",
     "output_type": "stream",
     "text": [
      "WARNING:root:The use of `check_types` is deprecated and does not have any effect.\n",
      "WARNING:root:The use of `check_types` is deprecated and does not have any effect.\n"
     ]
    },
    {
     "name": "stdout",
     "output_type": "stream",
     "text": [
      "(20,) (10,)\n"
     ]
    }
   ],
   "source": [
    "print(dist1.event_shape, dist1.batch_shape)"
   ]
  },
  {
   "cell_type": "code",
   "execution_count": null,
   "metadata": {},
   "outputs": [],
   "source": []
  }
 ],
 "metadata": {
  "interpreter": {
   "hash": "a176005efc6340d6f651f92e427305c0c77418f591408071800ce94934a5505a"
  },
  "kernelspec": {
   "display_name": "Python 3.10.3 ('td')",
   "language": "python",
   "name": "python3"
  },
  "language_info": {
   "codemirror_mode": {
    "name": "ipython",
    "version": 3
   },
   "file_extension": ".py",
   "mimetype": "text/x-python",
   "name": "python",
   "nbconvert_exporter": "python",
   "pygments_lexer": "ipython3",
   "version": "3.10.3"
  },
  "orig_nbformat": 4
 },
 "nbformat": 4,
 "nbformat_minor": 2
}
