{
 "cells": [
  {
   "cell_type": "code",
   "execution_count": 29,
   "metadata": {},
   "outputs": [],
   "source": [
    "\n",
    "\n",
    "from jax import numpy as jnp\n",
    "from flax import linen as nn\n",
    "from tensorflow_probability.substrates.jax import distributions as tfd\n",
    "import jax.random as rnd\n",
    "key = rnd.PRNGKey(1)\n",
    "key1, key2 = rnd.split(key, 2)\n",
    "shape = (1, 5)\n"
   ]
  },
  {
   "cell_type": "code",
   "execution_count": 30,
   "metadata": {},
   "outputs": [
    {
     "name": "stderr",
     "output_type": "stream",
     "text": [
      "WARNING:root:The use of `check_types` is deprecated and does not have any effect.\n"
     ]
    },
    {
     "name": "stdout",
     "output_type": "stream",
     "text": [
      "[[-0.76433897  1.4304022   0.29602233 -0.2620028   0.7534696 ]\n",
      " [ 0.38421908  1.3584293   1.9853761  -0.5374943  -1.2144603 ]\n",
      " [ 1.1424834   0.23388885 -0.977204   -0.01199458  0.6962024 ]\n",
      " [ 1.3386534   0.35359615  1.3369001   1.3061655  -1.6693078 ]\n",
      " [-0.12277574  0.8758087  -0.38047376 -0.8069952   0.03505866]\n",
      " [ 0.10265424  0.12381285 -1.1133257  -0.19076478  1.4280903 ]\n",
      " [-0.78696334  1.7904425   0.60417485 -0.29894122  1.7950747 ]\n",
      " [-1.4379933   2.10746    -0.05964555 -1.8987111  -0.5051671 ]\n",
      " [-0.56490016 -1.0505275   0.39251304  0.86643845  1.1392976 ]\n",
      " [-0.3791278   1.6222832   0.1660295  -0.08054032  1.6325336 ]]\n"
     ]
    }
   ],
   "source": [
    "# class MLPTransfer(nn.Module):\n",
    "\n",
    "#     def zero_state(self, leading_dims):\n",
    "#         mean=jnp.zeros(leading_dims+(n_embed,))\n",
    "#         std=jnp.ones(leading_dims+(n_embed,))\n",
    "#         dist = tfd.Normal(mean, std)\n",
    "#         z = dist.sample(seed=self.make_rng('sample'))\n",
    "#         # return dict(sample=jnp.zeros(leading_dims+(self.cfg.n_embed,)),\n",
    "#         return dict(z=z,\n",
    "#                     dist=dist,\n",
    "#                     mean=mean,\n",
    "#                     std=std)\n",
    "\n",
    "#     @nn.compact\n",
    "#     def __call__(self, x):\n",
    "        \n",
    "#         return x\n",
    "\n",
    "# model = \n",
    "leading_dims=(10,)\n",
    "n_embed=5\n",
    "mean=jnp.zeros(leading_dims+(n_embed,))\n",
    "std=jnp.ones(leading_dims+(n_embed,))\n",
    "dist = tfd.Normal(mean, std)\n",
    "z = dist.sample(seed=rnd.PRNGKey(1))\n",
    "print(z)"
   ]
  },
  {
   "cell_type": "code",
   "execution_count": 28,
   "metadata": {},
   "outputs": [
    {
     "name": "stdout",
     "output_type": "stream",
     "text": [
      "[[ 0.9087967  -0.040249    0.17204419 -1.6576358   0.353745  ]]\n",
      "[[0.21586019 0.55759454 0.52032065 0.33626488 2.129472  ]]\n",
      "[[-0.9189385 -0.9189385 -0.9189385 -0.9189385 -0.9189385]]\n"
     ]
    }
   ],
   "source": [
    "mean = rnd.normal(key1, shape)\n",
    "std = jnp.abs(rnd.normal(key2, shape))\n",
    "print(mean)\n",
    "print(std)\n",
    "dist = tfd.Normal(mean, 1.)\n",
    "log_prob = dist.log_prob(mean)\n",
    "print(log_prob)"
   ]
  },
  {
   "cell_type": "code",
   "execution_count": 24,
   "metadata": {},
   "outputs": [],
   "source": [
    "mean = rnd.normal(key1, shape)\n",
    "std = jnp.abs(rnd.normal(key2, shape))\n",
    "\n",
    "\n",
    "prior1 = tfd.Independent(tfd.Normal(jnp.zeros(shape), jnp.ones(shape)))\n",
    "dist1 = tfd.Independent(tfd.Normal(mean, std))\n",
    "prior = tfd.Normal(jnp.zeros(shape), jnp.ones(shape))\n",
    "dist = tfd.Normal(mean, std)\n",
    "# print(mean, std)\n",
    "\n"
   ]
  },
  {
   "cell_type": "code",
   "execution_count": 25,
   "metadata": {},
   "outputs": [
    {
     "name": "stderr",
     "output_type": "stream",
     "text": [
      "WARNING:root:The use of `check_types` is deprecated and does not have any effect.\n",
      "WARNING:root:The use of `check_types` is deprecated and does not have any effect.\n",
      "WARNING:root:The use of `check_types` is deprecated and does not have any effect.\n",
      "WARNING:root:The use of `check_types` is deprecated and does not have any effect.\n",
      "WARNING:root:The use of `check_types` is deprecated and does not have any effect.\n",
      "WARNING:root:The use of `check_types` is deprecated and does not have any effect.\n",
      "WARNING:root:The use of `check_types` is deprecated and does not have any effect.\n",
      "WARNING:root:The use of `check_types` is deprecated and does not have any effect.\n",
      "WARNING:root:The use of `check_types` is deprecated and does not have any effect.\n",
      "WARNING:root:The use of `check_types` is deprecated and does not have any effect.\n",
      "WARNING:root:The use of `check_types` is deprecated and does not have any effect.\n",
      "WARNING:root:The use of `check_types` is deprecated and does not have any effect.\n",
      "WARNING:root:The use of `check_types` is deprecated and does not have any effect.\n"
     ]
    },
    {
     "name": "stdout",
     "output_type": "stream",
     "text": [
      "[0.]\n"
     ]
    }
   ],
   "source": [
    "ind_kl = dist1.kl_divergence(prior1)\n",
    "kl = dist.kl_divergence(prior).sum(-1)\n",
    "\n",
    "print(ind_kl - kl)"
   ]
  },
  {
   "cell_type": "code",
   "execution_count": 26,
   "metadata": {},
   "outputs": [
    {
     "name": "stdout",
     "output_type": "stream",
     "text": [
      "[-1.4901531] [[ 0.6141858  -0.33481532 -0.26562852  0.17091763 -1.6748126 ]]\n"
     ]
    }
   ],
   "source": [
    "print(dist1.log_prob(mean), dist.log_prob(mean))"
   ]
  },
  {
   "cell_type": "code",
   "execution_count": 21,
   "metadata": {},
   "outputs": [
    {
     "name": "stderr",
     "output_type": "stream",
     "text": [
      "WARNING:root:The use of `check_types` is deprecated and does not have any effect.\n",
      "WARNING:root:The use of `check_types` is deprecated and does not have any effect.\n"
     ]
    },
    {
     "name": "stdout",
     "output_type": "stream",
     "text": [
      "(20,) (10,)\n"
     ]
    }
   ],
   "source": [
    "print(dist1.event_shape, dist1.batch_shape)"
   ]
  },
  {
   "cell_type": "code",
   "execution_count": null,
   "metadata": {},
   "outputs": [],
   "source": []
  }
 ],
 "metadata": {
  "interpreter": {
   "hash": "a176005efc6340d6f651f92e427305c0c77418f591408071800ce94934a5505a"
  },
  "kernelspec": {
   "display_name": "Python 3.10.3 ('td')",
   "language": "python",
   "name": "python3"
  },
  "language_info": {
   "codemirror_mode": {
    "name": "ipython",
    "version": 3
   },
   "file_extension": ".py",
   "mimetype": "text/x-python",
   "name": "python",
   "nbconvert_exporter": "python",
   "pygments_lexer": "ipython3",
   "version": "3.10.3"
  },
  "orig_nbformat": 4
 },
 "nbformat": 4,
 "nbformat_minor": 2
}
