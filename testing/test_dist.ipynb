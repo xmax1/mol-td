{
 "cells": [
  {
   "cell_type": "code",
   "execution_count": 1,
   "metadata": {},
   "outputs": [
    {
     "name": "stderr",
     "output_type": "stream",
     "text": [
      "2022-04-20 13:54:25.892091: E external/org_tensorflow/tensorflow/stream_executor/cuda/cuda_driver.cc:271] failed call to cuInit: CUDA_ERROR_NO_DEVICE: no CUDA-capable device is detected\n",
      "WARNING:absl:No GPU/TPU found, falling back to CPU. (Set TF_CPP_MIN_LOG_LEVEL=0 and rerun for more info.)\n"
     ]
    }
   ],
   "source": [
    "\n",
    "\n",
    "from jax import numpy as jnp\n",
    "from flax import linen as nn\n",
    "from tensorflow_probability.substrates.jax import distributions as tfd\n",
    "import jax.random as rnd\n"
   ]
  },
  {
   "cell_type": "code",
   "execution_count": 7,
   "metadata": {},
   "outputs": [
    {
     "name": "stderr",
     "output_type": "stream",
     "text": [
      "WARNING:root:The use of `check_types` is deprecated and does not have any effect.\n"
     ]
    },
    {
     "name": "stdout",
     "output_type": "stream",
     "text": [
      "[[ 1.38161    -0.97488207 -2.311578    0.24216926 -0.39196864]\n",
      " [-1.0157531   1.8313731   3.41936    -0.73498833  0.28631377]]\n",
      "[[-0.3780179  -0.39258528  0.55717444 -1.5076014  -0.770799  ]\n",
      " [ 1.7391242  -0.9172018   0.7383628   0.5731615  -1.4756505 ]]\n",
      "[[0.82824457 0.83716345 1.6868956  0.03882546 0.93719566]\n",
      " [3.0547671  0.34374455 1.8632145  1.9663383  0.39925566]]\n"
     ]
    }
   ],
   "source": [
    "shape = (2, 5)\n",
    "mean0 =jnp.zeros(shape)\n",
    "std1 =jnp.ones(shape) + 1.\n",
    "dist0 = tfd.Normal(mean0, std1)\n",
    "z = dist0.sample(seed=rnd.PRNGKey(1))\n",
    "print(z)\n",
    "\n",
    "key = rnd.PRNGKey(1)\n",
    "key1, key2 = rnd.split(key, 2)\n",
    "mean = rnd.normal(key1, shape)\n",
    "std = jnp.abs(rnd.normal(key2, shape))\n",
    "dist = tfd.Normal(mean, std)\n",
    "log_prob = dist.log_prob(mean)  # HAS BEEN SUMMED ACROSS THE BATCH! \n",
    "print(log_prob)\n",
    "kl_div = dist.kl_divergence(dist0)\n",
    "print(kl_div)"
   ]
  },
  {
   "cell_type": "code",
   "execution_count": 6,
   "metadata": {},
   "outputs": [
    {
     "name": "stdout",
     "output_type": "stream",
     "text": [
      "[[ 0.9087967  -0.040249    0.17204419 -1.6576358   0.353745  ]]\n",
      "[[0.21586019 0.55759454 0.52032065 0.33626488 2.129472  ]]\n",
      "[[-0.9189385 -0.9189385 -0.9189385 -0.9189385 -0.9189385]]\n",
      "[[0.42138612 0.3183497  0.32184708 0.66161674 0.3337891 ]\n",
      " [0.42138612 0.3183497  0.32184708 0.66161674 0.3337891 ]\n",
      " [0.42138612 0.3183497  0.32184708 0.66161674 0.3337891 ]\n",
      " [0.42138612 0.3183497  0.32184708 0.66161674 0.3337891 ]\n",
      " [0.42138612 0.3183497  0.32184708 0.66161674 0.3337891 ]\n",
      " [0.42138612 0.3183497  0.32184708 0.66161674 0.3337891 ]\n",
      " [0.42138612 0.3183497  0.32184708 0.66161674 0.3337891 ]\n",
      " [0.42138612 0.3183497  0.32184708 0.66161674 0.3337891 ]\n",
      " [0.42138612 0.3183497  0.32184708 0.66161674 0.3337891 ]\n",
      " [0.42138612 0.3183497  0.32184708 0.66161674 0.3337891 ]]\n"
     ]
    }
   ],
   "source": []
  },
  {
   "cell_type": "code",
   "execution_count": 24,
   "metadata": {},
   "outputs": [],
   "source": [
    "mean = rnd.normal(key1, shape)\n",
    "std = jnp.abs(rnd.normal(key2, shape))\n",
    "\n",
    "\n",
    "prior1 = tfd.Independent(tfd.Normal(jnp.zeros(shape), jnp.ones(shape)))\n",
    "dist1 = tfd.Independent(tfd.Normal(mean, std))\n",
    "prior = tfd.Normal(jnp.zeros(shape), jnp.ones(shape))\n",
    "dist = tfd.Normal(mean, std)\n",
    "# print(mean, std)\n",
    "\n"
   ]
  },
  {
   "cell_type": "code",
   "execution_count": 25,
   "metadata": {},
   "outputs": [
    {
     "name": "stderr",
     "output_type": "stream",
     "text": [
      "WARNING:root:The use of `check_types` is deprecated and does not have any effect.\n",
      "WARNING:root:The use of `check_types` is deprecated and does not have any effect.\n",
      "WARNING:root:The use of `check_types` is deprecated and does not have any effect.\n",
      "WARNING:root:The use of `check_types` is deprecated and does not have any effect.\n",
      "WARNING:root:The use of `check_types` is deprecated and does not have any effect.\n",
      "WARNING:root:The use of `check_types` is deprecated and does not have any effect.\n",
      "WARNING:root:The use of `check_types` is deprecated and does not have any effect.\n",
      "WARNING:root:The use of `check_types` is deprecated and does not have any effect.\n",
      "WARNING:root:The use of `check_types` is deprecated and does not have any effect.\n",
      "WARNING:root:The use of `check_types` is deprecated and does not have any effect.\n",
      "WARNING:root:The use of `check_types` is deprecated and does not have any effect.\n",
      "WARNING:root:The use of `check_types` is deprecated and does not have any effect.\n",
      "WARNING:root:The use of `check_types` is deprecated and does not have any effect.\n"
     ]
    },
    {
     "name": "stdout",
     "output_type": "stream",
     "text": [
      "[0.]\n"
     ]
    }
   ],
   "source": [
    "ind_kl = dist1.kl_divergence(prior1)\n",
    "kl = dist.kl_divergence(prior).sum(-1)\n",
    "\n",
    "print(ind_kl - kl)"
   ]
  },
  {
   "cell_type": "code",
   "execution_count": 26,
   "metadata": {},
   "outputs": [
    {
     "name": "stdout",
     "output_type": "stream",
     "text": [
      "[-1.4901531] [[ 0.6141858  -0.33481532 -0.26562852  0.17091763 -1.6748126 ]]\n"
     ]
    }
   ],
   "source": [
    "print(dist1.log_prob(mean), dist.log_prob(mean))"
   ]
  },
  {
   "cell_type": "code",
   "execution_count": 21,
   "metadata": {},
   "outputs": [
    {
     "name": "stderr",
     "output_type": "stream",
     "text": [
      "WARNING:root:The use of `check_types` is deprecated and does not have any effect.\n",
      "WARNING:root:The use of `check_types` is deprecated and does not have any effect.\n"
     ]
    },
    {
     "name": "stdout",
     "output_type": "stream",
     "text": [
      "(20,) (10,)\n"
     ]
    }
   ],
   "source": [
    "print(dist1.event_shape, dist1.batch_shape)"
   ]
  },
  {
   "cell_type": "code",
   "execution_count": null,
   "metadata": {},
   "outputs": [],
   "source": []
  }
 ],
 "metadata": {
  "interpreter": {
   "hash": "a176005efc6340d6f651f92e427305c0c77418f591408071800ce94934a5505a"
  },
  "kernelspec": {
   "display_name": "Python 3.10.3 ('td')",
   "language": "python",
   "name": "python3"
  },
  "language_info": {
   "codemirror_mode": {
    "name": "ipython",
    "version": 3
   },
   "file_extension": ".py",
   "mimetype": "text/x-python",
   "name": "python",
   "nbconvert_exporter": "python",
   "pygments_lexer": "ipython3",
   "version": "3.10.3"
  },
  "orig_nbformat": 4
 },
 "nbformat": 4,
 "nbformat_minor": 2
}
