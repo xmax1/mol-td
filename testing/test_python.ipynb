{
 "cells": [
  {
   "cell_type": "code",
   "execution_count": 18,
   "metadata": {},
   "outputs": [
    {
     "ename": "NameError",
     "evalue": "name 'vr' is not defined",
     "output_type": "error",
     "traceback": [
      "\u001b[0;31m---------------------------------------------------------------------------\u001b[0m",
      "\u001b[0;31mNameError\u001b[0m                                 Traceback (most recent call last)",
      "\u001b[1;32m/home/amawi/projects/mol-td/testing/test_python.ipynb Cell 1'\u001b[0m in \u001b[0;36m<cell line: 21>\u001b[0;34m()\u001b[0m\n\u001b[1;32m     <a href='vscode-notebook-cell://ssh-remote%2Btitan02.compute.dtu.dk/home/amawi/projects/mol-td/testing/test_python.ipynb#ch0000000vscode-remote?line=17'>18</a>\u001b[0m         \u001b[39mprint\u001b[39m(\u001b[39m'\u001b[39m\u001b[39mhere\u001b[39m\u001b[39m'\u001b[39m)\n\u001b[1;32m     <a href='vscode-notebook-cell://ssh-remote%2Btitan02.compute.dtu.dk/home/amawi/projects/mol-td/testing/test_python.ipynb#ch0000000vscode-remote?line=18'>19</a>\u001b[0m         \u001b[39mprint\u001b[39m(\u001b[39mself\u001b[39m\u001b[39m.\u001b[39mvr)\n\u001b[0;32m---> <a href='vscode-notebook-cell://ssh-remote%2Btitan02.compute.dtu.dk/home/amawi/projects/mol-td/testing/test_python.ipynb#ch0000000vscode-remote?line=20'>21</a>\u001b[0m a \u001b[39m=\u001b[39m A(\u001b[39m2\u001b[39;49m)\n\u001b[1;32m     <a href='vscode-notebook-cell://ssh-remote%2Btitan02.compute.dtu.dk/home/amawi/projects/mol-td/testing/test_python.ipynb#ch0000000vscode-remote?line=21'>22</a>\u001b[0m a\u001b[39m.\u001b[39mrun()\n\u001b[1;32m     <a href='vscode-notebook-cell://ssh-remote%2Btitan02.compute.dtu.dk/home/amawi/projects/mol-td/testing/test_python.ipynb#ch0000000vscode-remote?line=22'>23</a>\u001b[0m a\u001b[39m.\u001b[39mx\n",
      "File \u001b[0;32m<string>:5\u001b[0m, in \u001b[0;36m__init__\u001b[0;34m(self, vr, x)\u001b[0m\n",
      "\u001b[1;32m/home/amawi/projects/mol-td/testing/test_python.ipynb Cell 1'\u001b[0m in \u001b[0;36mA.__post_init__\u001b[0;34m(self)\u001b[0m\n\u001b[1;32m     <a href='vscode-notebook-cell://ssh-remote%2Btitan02.compute.dtu.dk/home/amawi/projects/mol-td/testing/test_python.ipynb#ch0000000vscode-remote?line=11'>12</a>\u001b[0m \u001b[39mdef\u001b[39;00m \u001b[39m__post_init__\u001b[39m(\u001b[39mself\u001b[39m):\n\u001b[0;32m---> <a href='vscode-notebook-cell://ssh-remote%2Btitan02.compute.dtu.dk/home/amawi/projects/mol-td/testing/test_python.ipynb#ch0000000vscode-remote?line=12'>13</a>\u001b[0m     \u001b[39mprint\u001b[39m(vr)\n\u001b[1;32m     <a href='vscode-notebook-cell://ssh-remote%2Btitan02.compute.dtu.dk/home/amawi/projects/mol-td/testing/test_python.ipynb#ch0000000vscode-remote?line=13'>14</a>\u001b[0m     \u001b[39mprint\u001b[39m(\u001b[39m'\u001b[39m\u001b[39mini\u001b[39m\u001b[39m'\u001b[39m)\n",
      "\u001b[0;31mNameError\u001b[0m: name 'vr' is not defined"
     ]
    }
   ],
   "source": [
    "from dataclasses import dataclass\n",
    "\n",
    "@dataclass\n",
    "class A:\n",
    "    vr: int\n",
    "    x: str = 'max'\n",
    "\n",
    "    # def __init__(self):\n",
    "    #     print(self.x)\n",
    "    #     print(self.vr)\n",
    "\n",
    "    def __post_init__(self):\n",
    "        print(vr)\n",
    "        print('ini')\n",
    "\n",
    "    def run(self):\n",
    "        self.z = 1\n",
    "        print('here')\n",
    "        print(self.vr)\n",
    "\n",
    "a = A(2)\n",
    "a.run()\n",
    "a.x\n",
    "a.z"
   ]
  },
  {
   "cell_type": "code",
   "execution_count": null,
   "metadata": {},
   "outputs": [],
   "source": []
  }
 ],
 "metadata": {
  "interpreter": {
   "hash": "a176005efc6340d6f651f92e427305c0c77418f591408071800ce94934a5505a"
  },
  "kernelspec": {
   "display_name": "Python 3.10.3 ('td')",
   "language": "python",
   "name": "python3"
  },
  "language_info": {
   "codemirror_mode": {
    "name": "ipython",
    "version": 3
   },
   "file_extension": ".py",
   "mimetype": "text/x-python",
   "name": "python",
   "nbconvert_exporter": "python",
   "pygments_lexer": "ipython3",
   "version": "3.10.3"
  },
  "orig_nbformat": 4
 },
 "nbformat": 4,
 "nbformat_minor": 2
}
