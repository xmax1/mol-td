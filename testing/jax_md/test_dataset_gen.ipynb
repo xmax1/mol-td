{
 "cells": [
  {
   "cell_type": "code",
   "execution_count": null,
   "metadata": {},
   "outputs": [],
   "source": [
    "\n",
    "%load_ext autoreload\n",
    "%autoreload 2\n",
    "\n",
    "import os\n",
    "os.environ['CUDA_VISIBLE_DEVICES'] = '0'"
   ]
  },
  {
   "cell_type": "code",
   "execution_count": 1,
   "metadata": {},
   "outputs": [],
   "source": [
    "import numpy as onp\n",
    "\n",
    "from jax.config import config ; config.update('jax_enable_x64', True)\n",
    "import jax.numpy as np\n",
    "from jax import random\n",
    "from jax import jit\n",
    "from jax import lax\n",
    "\n",
    "import time\n",
    "\n",
    "from jax_md import space, smap, energy, minimize, quantity, simulate\n",
    "\n",
    "import matplotlib\n",
    "import matplotlib.pyplot as plt\n",
    "import seaborn as sns\n",
    "  \n",
    "sns.set_style(style='white')\n",
    "\n",
    "def format_plot(x, y):  \n",
    "  plt.xlabel(x, fontsize=20)\n",
    "  plt.ylabel(y, fontsize=20)\n",
    "  \n",
    "def finalize_plot(shape=(1, 1)):\n",
    "  plt.gcf().set_size_inches(\n",
    "    shape[0] * 1.5 * plt.gcf().get_size_inches()[1], \n",
    "    shape[1] * 1.5 * plt.gcf().get_size_inches()[1])\n",
    "  plt.tight_layout()"
   ]
  },
  {
   "cell_type": "markdown",
   "metadata": {},
   "source": [
    "Creating a dataset\n",
    "- Pick number of particles, dimension, box size\n",
    "- Set sigma, the parameter telling us the minimum energy distance between two particles\n",
    "- Pick the species split (remember this, because it determines the species labels)"
   ]
  },
  {
   "cell_type": "code",
   "execution_count": 35,
   "metadata": {},
   "outputs": [],
   "source": [
    "N = 100\n",
    "dimension = 2\n",
    "box_size = 10\n",
    "displacement, shift = space.periodic(box_size) \n",
    "n_steps = 200\n",
    "ts = 1e-2\n",
    "n_lax_loop = 1\n",
    "t = onp.arange(0, n_steps, n_lax_loop) * ts"
   ]
  },
  {
   "cell_type": "code",
   "execution_count": 30,
   "metadata": {},
   "outputs": [],
   "source": [
    "key = random.PRNGKey(0)\n",
    "R = random.uniform(key, (N, dimension), minval=0.0, maxval=box_size, dtype=np.float64)\n",
    "\n",
    "# The system ought to be a 50:50 mixture of two types of particles, one\n",
    "# large and one small.\n",
    "sigma = np.array([[1.0, 1.2], [1.2, 1.4]])   # is the minimum locatione\n",
    "N_2 = int(N / 2)\n",
    "species = np.where(np.arange(N) < N_2, 0, 1)"
   ]
  },
  {
   "cell_type": "code",
   "execution_count": 31,
   "metadata": {},
   "outputs": [],
   "source": [
    "\n",
    "\n",
    "\n",
    "energy_fn = energy.soft_sphere_pair(displacement, species=species, sigma=sigma)\n",
    "\n",
    "\n",
    "init, apply = simulate.nve(energy_fn, shift, ts)\n",
    "step = jit(lambda i, state: apply(state))\n",
    "state = init(key, R, kT=0.0)"
   ]
  },
  {
   "cell_type": "code",
   "execution_count": 2,
   "metadata": {},
   "outputs": [
    {
     "name": "stderr",
     "output_type": "stream",
     "text": [
      "2022-05-01 20:12:14.335407: E external/org_tensorflow/tensorflow/stream_executor/cuda/cuda_driver.cc:271] failed call to cuInit: CUDA_ERROR_NO_DEVICE: no CUDA-capable device is detected\n",
      "WARNING:absl:No GPU/TPU found, falling back to CPU. (Set TF_CPP_MIN_LOG_LEVEL=0 and rerun for more info.)\n"
     ]
    },
    {
     "ename": "NameError",
     "evalue": "name 'plt' is not defined",
     "output_type": "error",
     "traceback": [
      "\u001b[0;31m---------------------------------------------------------------------------\u001b[0m",
      "\u001b[0;31mNameError\u001b[0m                                 Traceback (most recent call last)",
      "\u001b[1;32m/home/amawi/projects/mol-td/testing/jax_md/test_dataset_gen.ipynb Cell 7'\u001b[0m in \u001b[0;36m<cell line: 6>\u001b[0;34m()\u001b[0m\n\u001b[1;32m      <a href='vscode-notebook-cell://ssh-remote%2Btitan02.compute.dtu.dk/home/amawi/projects/mol-td/testing/jax_md/test_dataset_gen.ipynb#ch0000014vscode-remote?line=1'>2</a>\u001b[0m positions \u001b[39m=\u001b[39m jnp\u001b[39m.\u001b[39marray([[\u001b[39m0.5\u001b[39m, \u001b[39m0.5\u001b[39m], [\u001b[39m0.5\u001b[39m, \u001b[39m0.5\u001b[39m]])\n\u001b[1;32m      <a href='vscode-notebook-cell://ssh-remote%2Btitan02.compute.dtu.dk/home/amawi/projects/mol-td/testing/jax_md/test_dataset_gen.ipynb#ch0000014vscode-remote?line=2'>3</a>\u001b[0m species \u001b[39m=\u001b[39m jnp\u001b[39m.\u001b[39marange(\u001b[39m1\u001b[39m)\n\u001b[0;32m----> <a href='vscode-notebook-cell://ssh-remote%2Btitan02.compute.dtu.dk/home/amawi/projects/mol-td/testing/jax_md/test_dataset_gen.ipynb#ch0000014vscode-remote?line=5'>6</a>\u001b[0m plt\u001b[39m.\u001b[39mplot(t, PE, label\u001b[39m=\u001b[39m\u001b[39m'\u001b[39m\u001b[39mPE\u001b[39m\u001b[39m'\u001b[39m, linewidth\u001b[39m=\u001b[39m\u001b[39m3\u001b[39m)\n\u001b[1;32m      <a href='vscode-notebook-cell://ssh-remote%2Btitan02.compute.dtu.dk/home/amawi/projects/mol-td/testing/jax_md/test_dataset_gen.ipynb#ch0000014vscode-remote?line=6'>7</a>\u001b[0m plt\u001b[39m.\u001b[39mplot(t, KE, label\u001b[39m=\u001b[39m\u001b[39m'\u001b[39m\u001b[39mKE\u001b[39m\u001b[39m'\u001b[39m, linewidth\u001b[39m=\u001b[39m\u001b[39m3\u001b[39m)\n\u001b[1;32m      <a href='vscode-notebook-cell://ssh-remote%2Btitan02.compute.dtu.dk/home/amawi/projects/mol-td/testing/jax_md/test_dataset_gen.ipynb#ch0000014vscode-remote?line=7'>8</a>\u001b[0m plt\u001b[39m.\u001b[39mplot(t, PE \u001b[39m+\u001b[39m KE, label\u001b[39m=\u001b[39m\u001b[39m'\u001b[39m\u001b[39mTotal Energy\u001b[39m\u001b[39m'\u001b[39m, linewidth\u001b[39m=\u001b[39m\u001b[39m3\u001b[39m)\n",
      "\u001b[0;31mNameError\u001b[0m: name 'plt' is not defined"
     ]
    }
   ],
   "source": [
    "from jax import numpy as jnp\n",
    "positions = jnp.array([[0.5, 0.5], [0.5, 0.5]])\n",
    "species = jnp.arange(2)\n",
    "sigma = np.array([[1.0, 1.2], [1.2, 1.4]])\n",
    "energy_fn_test = energy.soft_sphere_pair(displacement, species=species, sigma=sigma)\n",
    "\n",
    "plt.plot(t, PE, label='PE', linewidth=3)\n",
    "plt.plot(t, KE, label='KE', linewidth=3)\n",
    "plt.plot(t, PE + KE, label='Total Energy', linewidth=3)\n",
    "plt.legend()\n",
    "format_plot('t', '')\n",
    "finalize_plot()"
   ]
  },
  {
   "cell_type": "code",
   "execution_count": 3,
   "metadata": {},
   "outputs": [
    {
     "data": {
      "text/plain": [
       "DeviceArray([0], dtype=int32)"
      ]
     },
     "execution_count": 3,
     "metadata": {},
     "output_type": "execute_result"
    }
   ],
   "source": [
    "\n"
   ]
  },
  {
   "cell_type": "code",
   "execution_count": 32,
   "metadata": {},
   "outputs": [
    {
     "name": "stdout",
     "output_type": "stream",
     "text": [
      "Step\tKE\tPE\tTotal Energy\ttime/step\n",
      "----------------------------------------\n",
      "1\t0.01\t17.63\t17.640\t0.17\n",
      "2\t0.02\t17.62\t17.640\t0.01\n",
      "3\t0.04\t17.60\t17.640\t0.01\n",
      "4\t0.06\t17.58\t17.640\t0.02\n",
      "5\t0.08\t17.56\t17.640\t0.01\n",
      "6\t0.11\t17.53\t17.640\t0.01\n",
      "7\t0.14\t17.50\t17.640\t0.01\n",
      "8\t0.18\t17.46\t17.640\t0.01\n",
      "9\t0.22\t17.42\t17.640\t0.01\n",
      "10\t0.27\t17.37\t17.640\t0.01\n",
      "11\t0.32\t17.32\t17.640\t0.01\n",
      "12\t0.38\t17.26\t17.640\t0.01\n",
      "13\t0.43\t17.21\t17.640\t0.01\n",
      "14\t0.50\t17.14\t17.640\t0.01\n",
      "15\t0.57\t17.08\t17.640\t0.02\n",
      "16\t0.64\t17.00\t17.640\t0.02\n",
      "17\t0.71\t16.93\t17.640\t0.01\n",
      "18\t0.79\t16.85\t17.640\t0.01\n",
      "19\t0.87\t16.77\t17.640\t0.01\n",
      "20\t0.96\t16.68\t17.640\t0.01\n",
      "21\t1.05\t16.59\t17.640\t0.01\n",
      "22\t1.14\t16.50\t17.640\t0.01\n",
      "23\t1.24\t16.40\t17.640\t0.03\n",
      "24\t1.34\t16.30\t17.640\t0.01\n",
      "25\t1.44\t16.20\t17.640\t0.01\n",
      "26\t1.55\t16.09\t17.640\t0.01\n",
      "27\t1.65\t15.99\t17.640\t0.01\n",
      "28\t1.77\t15.87\t17.640\t0.01\n",
      "29\t1.88\t15.76\t17.640\t0.02\n",
      "30\t2.00\t15.64\t17.640\t0.01\n",
      "31\t2.12\t15.52\t17.640\t0.02\n",
      "32\t2.24\t15.40\t17.640\t0.01\n",
      "33\t2.36\t15.28\t17.640\t0.01\n",
      "34\t2.49\t15.15\t17.640\t0.01\n",
      "35\t2.62\t15.02\t17.640\t0.01\n",
      "36\t2.75\t14.89\t17.640\t0.01\n",
      "37\t2.88\t14.76\t17.640\t0.01\n",
      "38\t3.01\t14.63\t17.640\t0.01\n",
      "39\t3.15\t14.49\t17.640\t0.01\n",
      "40\t3.28\t14.36\t17.640\t0.01\n",
      "41\t3.42\t14.22\t17.640\t0.01\n",
      "42\t3.56\t14.08\t17.640\t0.01\n",
      "43\t3.70\t13.94\t17.640\t0.01\n",
      "44\t3.84\t13.80\t17.640\t0.01\n",
      "45\t3.98\t13.66\t17.640\t0.01\n",
      "46\t4.12\t13.52\t17.640\t0.01\n",
      "47\t4.26\t13.38\t17.640\t0.01\n",
      "48\t4.40\t13.24\t17.640\t0.01\n",
      "49\t4.54\t13.10\t17.640\t0.01\n",
      "50\t4.68\t12.96\t17.640\t0.01\n",
      "51\t4.83\t12.81\t17.640\t0.01\n",
      "52\t4.97\t12.67\t17.640\t0.01\n",
      "53\t5.11\t12.53\t17.640\t0.01\n",
      "54\t5.25\t12.39\t17.640\t0.01\n",
      "55\t5.39\t12.25\t17.640\t0.02\n",
      "56\t5.52\t12.12\t17.640\t0.01\n",
      "57\t5.66\t11.98\t17.640\t0.01\n",
      "58\t5.80\t11.84\t17.640\t0.01\n",
      "59\t5.93\t11.71\t17.640\t0.01\n",
      "60\t6.07\t11.57\t17.640\t0.01\n",
      "61\t6.20\t11.44\t17.640\t0.01\n",
      "62\t6.33\t11.31\t17.640\t0.02\n",
      "63\t6.46\t11.18\t17.640\t0.01\n",
      "64\t6.59\t11.05\t17.640\t0.01\n",
      "65\t6.72\t10.92\t17.640\t0.01\n",
      "66\t6.84\t10.80\t17.640\t0.01\n",
      "67\t6.97\t10.67\t17.640\t0.01\n",
      "68\t7.09\t10.55\t17.640\t0.01\n",
      "69\t7.21\t10.43\t17.640\t0.01\n",
      "70\t7.33\t10.31\t17.640\t0.01\n",
      "71\t7.44\t10.20\t17.640\t0.01\n",
      "72\t7.56\t10.08\t17.640\t0.01\n",
      "73\t7.67\t9.97\t17.640\t0.01\n",
      "74\t7.78\t9.86\t17.640\t0.01\n",
      "75\t7.88\t9.76\t17.640\t0.01\n",
      "76\t7.99\t9.65\t17.640\t0.01\n",
      "77\t8.09\t9.55\t17.640\t0.01\n",
      "78\t8.19\t9.45\t17.640\t0.01\n",
      "79\t8.29\t9.35\t17.640\t0.01\n",
      "80\t8.38\t9.26\t17.640\t0.01\n",
      "81\t8.47\t9.17\t17.640\t0.01\n",
      "82\t8.56\t9.08\t17.640\t0.01\n",
      "83\t8.65\t8.99\t17.640\t0.01\n",
      "84\t8.73\t8.91\t17.640\t0.01\n",
      "85\t8.82\t8.82\t17.640\t0.01\n",
      "86\t8.89\t8.75\t17.640\t0.01\n",
      "87\t8.97\t8.67\t17.640\t0.01\n",
      "88\t9.04\t8.60\t17.640\t0.01\n",
      "89\t9.11\t8.53\t17.640\t0.01\n",
      "90\t9.18\t8.46\t17.640\t0.01\n",
      "91\t9.25\t8.39\t17.640\t0.01\n",
      "92\t9.31\t8.33\t17.640\t0.01\n",
      "93\t9.37\t8.27\t17.640\t0.01\n",
      "94\t9.43\t8.21\t17.640\t0.01\n",
      "95\t9.48\t8.16\t17.640\t0.01\n",
      "96\t9.53\t8.11\t17.640\t0.01\n",
      "97\t9.58\t8.06\t17.640\t0.01\n",
      "98\t9.63\t8.01\t17.640\t0.01\n",
      "99\t9.67\t7.97\t17.640\t0.01\n",
      "100\t9.72\t7.92\t17.640\t0.01\n",
      "101\t9.76\t7.88\t17.640\t0.01\n",
      "102\t9.79\t7.85\t17.640\t0.01\n",
      "103\t9.83\t7.81\t17.640\t0.02\n",
      "104\t9.86\t7.78\t17.640\t0.01\n",
      "105\t9.90\t7.74\t17.640\t0.01\n",
      "106\t9.93\t7.71\t17.640\t0.01\n",
      "107\t9.95\t7.69\t17.640\t0.01\n",
      "108\t9.98\t7.66\t17.640\t0.01\n",
      "109\t10.01\t7.63\t17.640\t0.01\n",
      "110\t10.03\t7.61\t17.640\t0.01\n",
      "111\t10.05\t7.59\t17.640\t0.01\n",
      "112\t10.07\t7.57\t17.640\t0.01\n",
      "113\t10.09\t7.55\t17.640\t0.01\n",
      "114\t10.11\t7.53\t17.640\t0.01\n",
      "115\t10.12\t7.52\t17.640\t0.01\n",
      "116\t10.13\t7.51\t17.640\t0.01\n",
      "117\t10.15\t7.49\t17.640\t0.01\n",
      "118\t10.16\t7.48\t17.640\t0.01\n",
      "119\t10.17\t7.47\t17.640\t0.02\n",
      "120\t10.18\t7.46\t17.640\t0.01\n",
      "121\t10.18\t7.46\t17.640\t0.01\n",
      "122\t10.19\t7.45\t17.640\t0.01\n",
      "123\t10.19\t7.44\t17.640\t0.01\n",
      "124\t10.20\t7.44\t17.640\t0.01\n",
      "125\t10.20\t7.44\t17.640\t0.01\n",
      "126\t10.21\t7.43\t17.640\t0.01\n",
      "127\t10.21\t7.43\t17.640\t0.01\n",
      "128\t10.21\t7.43\t17.640\t0.02\n",
      "129\t10.21\t7.43\t17.640\t0.02\n",
      "130\t10.21\t7.43\t17.640\t0.02\n",
      "131\t10.21\t7.43\t17.640\t0.01\n",
      "132\t10.20\t7.44\t17.640\t0.01\n",
      "133\t10.20\t7.44\t17.640\t0.02\n",
      "134\t10.20\t7.44\t17.640\t0.02\n",
      "135\t10.20\t7.44\t17.640\t0.01\n",
      "136\t10.19\t7.45\t17.640\t0.02\n",
      "137\t10.19\t7.45\t17.640\t0.01\n",
      "138\t10.18\t7.46\t17.640\t0.01\n",
      "139\t10.17\t7.47\t17.640\t0.01\n",
      "140\t10.17\t7.47\t17.640\t0.01\n",
      "141\t10.16\t7.48\t17.640\t0.01\n",
      "142\t10.16\t7.48\t17.640\t0.01\n",
      "143\t10.15\t7.49\t17.640\t0.01\n",
      "144\t10.14\t7.50\t17.640\t0.01\n",
      "145\t10.13\t7.51\t17.640\t0.01\n",
      "146\t10.12\t7.52\t17.640\t0.01\n",
      "147\t10.12\t7.52\t17.640\t0.01\n",
      "148\t10.11\t7.53\t17.640\t0.01\n",
      "149\t10.10\t7.54\t17.640\t0.01\n",
      "150\t10.09\t7.55\t17.640\t0.01\n",
      "151\t10.08\t7.56\t17.640\t0.01\n",
      "152\t10.06\t7.58\t17.640\t0.01\n",
      "153\t10.05\t7.59\t17.640\t0.01\n",
      "154\t10.04\t7.60\t17.640\t0.01\n",
      "155\t10.03\t7.61\t17.640\t0.01\n",
      "156\t10.02\t7.62\t17.640\t0.01\n",
      "157\t10.00\t7.64\t17.640\t0.01\n",
      "158\t9.99\t7.65\t17.640\t0.01\n",
      "159\t9.97\t7.67\t17.640\t0.01\n",
      "160\t9.96\t7.68\t17.640\t0.02\n",
      "161\t9.95\t7.69\t17.640\t0.02\n",
      "162\t9.93\t7.71\t17.640\t0.01\n",
      "163\t9.91\t7.73\t17.640\t0.01\n",
      "164\t9.90\t7.74\t17.640\t0.01\n",
      "165\t9.88\t7.76\t17.640\t0.01\n",
      "166\t9.86\t7.77\t17.640\t0.01\n",
      "167\t9.85\t7.79\t17.640\t0.01\n",
      "168\t9.83\t7.81\t17.640\t0.01\n",
      "169\t9.81\t7.83\t17.640\t0.01\n",
      "170\t9.79\t7.85\t17.640\t0.01\n",
      "171\t9.78\t7.86\t17.640\t0.01\n",
      "172\t9.76\t7.88\t17.640\t0.01\n",
      "173\t9.74\t7.90\t17.640\t0.01\n",
      "174\t9.72\t7.92\t17.640\t0.01\n",
      "175\t9.70\t7.94\t17.640\t0.01\n",
      "176\t9.68\t7.96\t17.640\t0.01\n",
      "177\t9.66\t7.98\t17.640\t0.01\n",
      "178\t9.63\t8.01\t17.640\t0.01\n",
      "179\t9.61\t8.03\t17.640\t0.01\n",
      "180\t9.59\t8.05\t17.640\t0.01\n",
      "181\t9.57\t8.07\t17.640\t0.01\n",
      "182\t9.55\t8.09\t17.640\t0.01\n",
      "183\t9.52\t8.12\t17.640\t0.01\n",
      "184\t9.50\t8.14\t17.640\t0.01\n",
      "185\t9.48\t8.16\t17.640\t0.01\n",
      "186\t9.45\t8.19\t17.640\t0.01\n",
      "187\t9.43\t8.21\t17.640\t0.02\n",
      "188\t9.40\t8.24\t17.640\t0.01\n",
      "189\t9.38\t8.26\t17.640\t0.01\n",
      "190\t9.35\t8.29\t17.640\t0.01\n",
      "191\t9.33\t8.31\t17.640\t0.01\n",
      "192\t9.31\t8.33\t17.640\t0.01\n",
      "193\t9.28\t8.36\t17.640\t0.01\n",
      "194\t9.26\t8.38\t17.640\t0.01\n",
      "195\t9.23\t8.41\t17.640\t0.01\n",
      "196\t9.21\t8.43\t17.640\t0.01\n",
      "197\t9.18\t8.46\t17.640\t0.01\n",
      "198\t9.16\t8.48\t17.640\t0.01\n",
      "199\t9.14\t8.50\t17.640\t0.01\n"
     ]
    }
   ],
   "source": [
    "PE = []\n",
    "KE = []\n",
    "\n",
    "print_every = 20\n",
    "old_time = time.time()\n",
    "print('Step\\tKE\\tPE\\tTotal Energy\\ttime/step')\n",
    "print('----------------------------------------')\n",
    "\n",
    "\n",
    "data = {'R':[], 'F':[], 'z':[], 'V':[]}\n",
    "for i in range(n_steps):\n",
    "  state = lax.fori_loop(0, n_lax_loop, step, state)\n",
    "  \n",
    "  PE += [energy_fn(state.position)]\n",
    "  KE += [quantity.kinetic_energy(state.velocity)]\n",
    "  \n",
    "  if i % print_every == 0 and i > 0:\n",
    "    new_time = time.time()\n",
    "    print('{}\\t{:.2f}\\t{:.2f}\\t{:.3f}\\t{:.2f}'.format(\n",
    "        i * print_every, KE[-1], PE[-1], KE[-1] + PE[-1], \n",
    "        (new_time - old_time) / print_every / 10.0))\n",
    "    old_time = new_time\n",
    "\n",
    "  data['R'] += [np.array(state.position, dtype=np.float32)]\n",
    "  data['F'] += [np.array(state.force, dtype=np.float32)]\n",
    "  data['V'] += [np.array(state.velocity, dtype=np.float32)]\n",
    "data['z'] = species + 1\n",
    "\n",
    "PE = np.array(PE)\n",
    "KE = np.array(KE)\n",
    "R = state.position\n",
    "\n",
    "data = {np.con}\n",
    "np.savez('test_data.npz', **data)"
   ]
  },
  {
   "cell_type": "code",
   "execution_count": 36,
   "metadata": {},
   "outputs": [
    {
     "data": {
      "image/png": "[encoded data removed]",
      "text/plain": [
       "<Figure size 432x432 with 1 Axes>"
      ]
     },
     "metadata": {},
     "output_type": "display_data"
    }
   ],
   "source": [
    "\n",
    "plt.plot(t, PE, label='PE', linewidth=3)\n",
    "plt.plot(t, KE, label='KE', linewidth=3)\n",
    "plt.plot(t, PE + KE, label='Total Energy', linewidth=3)\n",
    "plt.legend()\n",
    "format_plot('t', '')\n",
    "finalize_plot()"
   ]
  },
  {
   "cell_type": "code",
   "execution_count": 26,
   "metadata": {},
   "outputs": [
    {
     "data": {
      "image/png": "[encoded data removed]",
      "text/plain": [
       "<Figure size 864x864 with 1 Axes>"
      ]
     },
     "metadata": {},
     "output_type": "display_data"
    }
   ],
   "source": [
    "ms = 20\n",
    "R_plt = onp.array(state.position)\n",
    "\n",
    "plt.plot(R_plt[:N_2, 0], R_plt[:N_2, 1], 'o', markersize=ms * 0.5)\n",
    "plt.plot(R_plt[N_2:, 0], R_plt[N_2:, 1], 'o', markersize=ms * 0.7)\n",
    "\n",
    "plt.xlim([0, np.max(R[:, 0])])\n",
    "plt.ylim([0, np.max(R[:, 1])])\n",
    "\n",
    "plt.axis('off')\n",
    "\n",
    "finalize_plot((2, 2))"
   ]
  },
  {
   "cell_type": "code",
   "execution_count": 27,
   "metadata": {},
   "outputs": [
    {
     "name": "stdout",
     "output_type": "stream",
     "text": [
      "['__annotations__', '__class__', '__dataclass_fields__', '__dataclass_params__', '__delattr__', '__dict__', '__dir__', '__doc__', '__eq__', '__format__', '__ge__', '__getattribute__', '__gt__', '__hash__', '__init__', '__init_subclass__', '__le__', '__lt__', '__match_args__', '__module__', '__ne__', '__new__', '__reduce__', '__reduce_ex__', '__repr__', '__setattr__', '__sizeof__', '__str__', '__subclasshook__', '__weakref__', 'force', 'mass', 'position', 'velocity']\n"
     ]
    }
   ],
   "source": [
    "state.position\n",
    "\n",
    "state.velocity\n",
    "\n",
    "print(dir(state))\n"
   ]
  },
  {
   "cell_type": "code",
   "execution_count": 28,
   "metadata": {},
   "outputs": [
    {
     "data": {
      "text/plain": [
       "DeviceArray(1., dtype=float32)"
      ]
     },
     "execution_count": 28,
     "metadata": {},
     "output_type": "execute_result"
    }
   ],
   "source": [
    "state.mass\n"
   ]
  },
  {
   "cell_type": "code",
   "execution_count": 37,
   "metadata": {},
   "outputs": [
    {
     "name": "stdout",
     "output_type": "stream",
     "text": [
      "['R', 'F', 'z', 'V']\n"
     ]
    }
   ],
   "source": [
    "x = np.load('test_data.npz')\n",
    "print(list(x.keys()))"
   ]
  },
  {
   "cell_type": "code",
   "execution_count": 39,
   "metadata": {},
   "outputs": [
    {
     "data": {
      "text/plain": [
       "(200, 100, 2)"
      ]
     },
     "execution_count": 39,
     "metadata": {},
     "output_type": "execute_result"
    }
   ],
   "source": []
  },
  {
   "cell_type": "code",
   "execution_count": null,
   "metadata": {},
   "outputs": [],
   "source": []
  }
 ],
 "metadata": {
  "interpreter": {
   "hash": "a176005efc6340d6f651f92e427305c0c77418f591408071800ce94934a5505a"
  },
  "kernelspec": {
   "display_name": "Python 3.10.3 ('td')",
   "language": "python",
   "name": "python3"
  },
  "language_info": {
   "codemirror_mode": {
    "name": "ipython",
    "version": 3
   },
   "file_extension": ".py",
   "mimetype": "text/x-python",
   "name": "python",
   "nbconvert_exporter": "python",
   "pygments_lexer": "ipython3",
   "version": "3.10.3"
  },
  "orig_nbformat": 4
 },
 "nbformat": 4,
 "nbformat_minor": 2
}
