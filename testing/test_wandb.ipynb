{
 "cells": [
  {
   "cell_type": "code",
   "execution_count": 1,
   "metadata": {},
   "outputs": [],
   "source": [
    "%load_ext autoreload\n",
    "%autoreload 2"
   ]
  },
  {
   "cell_type": "code",
   "execution_count": 7,
   "metadata": {},
   "outputs": [],
   "source": [
    "# https://docs.wandb.ai/guides/track/public-api-guide#public-api-examples \n",
    "\n",
    "import wandb\n",
    "api = wandb.Api()\n",
    "run = api.run(\"test/test\")  # docs advise \"xmax1/test/test\", but this results in error"
   ]
  },
  {
   "cell_type": "code",
   "execution_count": 10,
   "metadata": {},
   "outputs": [
    {
     "name": "stdout",
     "output_type": "stream",
     "text": [
      "_step         1.400000e+01\n",
      "loss          2.150206e+02\n",
      "nll           2.144077e+02\n",
      "_runtime      6.000000e+00\n",
      "kl_div        6.129143e-01\n",
      "_timestamp    1.649080e+09\n",
      "Name: 0, dtype: float64\n"
     ]
    }
   ],
   "source": [
    "run.state\n",
    "for i, row in run.history().iterrows():\n",
    "      print(row)\n",
    "      break"
   ]
  },
  {
   "cell_type": "code",
   "execution_count": 13,
   "metadata": {},
   "outputs": [
    {
     "data": {
      "text/html": [
       "<div>\n",
       "<style scoped>\n",
       "    .dataframe tbody tr th:only-of-type {\n",
       "        vertical-align: middle;\n",
       "    }\n",
       "\n",
       "    .dataframe tbody tr th {\n",
       "        vertical-align: top;\n",
       "    }\n",
       "\n",
       "    .dataframe thead th {\n",
       "        text-align: right;\n",
       "    }\n",
       "</style>\n",
       "<table border=\"1\" class=\"dataframe\">\n",
       "  <thead>\n",
       "    <tr style=\"text-align: right;\">\n",
       "      <th></th>\n",
       "      <th>system.network.sent</th>\n",
       "      <th>system.gpu.0.powerPercent</th>\n",
       "      <th>system.network.recv</th>\n",
       "      <th>system.gpu.7.powerWatts</th>\n",
       "      <th>system.gpu.5.temp</th>\n",
       "      <th>system.gpu.2.temp</th>\n",
       "      <th>system.gpu.1.temp</th>\n",
       "      <th>system.gpu.process.7.powerWatts</th>\n",
       "      <th>system.gpu.3.gpu</th>\n",
       "      <th>system.gpu.4.memory</th>\n",
       "      <th>...</th>\n",
       "      <th>system.gpu.2.gpu</th>\n",
       "      <th>system.gpu.5.powerPercent</th>\n",
       "      <th>system.gpu.3.temp</th>\n",
       "      <th>system.gpu.1.powerPercent</th>\n",
       "      <th>system.gpu.2.powerPercent</th>\n",
       "      <th>system.gpu.0.memoryAllocated</th>\n",
       "      <th>_timestamp</th>\n",
       "      <th>system.gpu.7.memory</th>\n",
       "      <th>system.gpu.6.gpu</th>\n",
       "      <th>system.gpu.7.memoryAllocated</th>\n",
       "    </tr>\n",
       "  </thead>\n",
       "  <tbody>\n",
       "    <tr>\n",
       "      <th>0</th>\n",
       "      <td>1041428150</td>\n",
       "      <td>68.13</td>\n",
       "      <td>29391158</td>\n",
       "      <td>49.65</td>\n",
       "      <td>61.73</td>\n",
       "      <td>26</td>\n",
       "      <td>83.09</td>\n",
       "      <td>49.65</td>\n",
       "      <td>98.27</td>\n",
       "      <td>4.82</td>\n",
       "      <td>...</td>\n",
       "      <td>0</td>\n",
       "      <td>51.1</td>\n",
       "      <td>60.18</td>\n",
       "      <td>92.37</td>\n",
       "      <td>0.26</td>\n",
       "      <td>95.8</td>\n",
       "      <td>1649079953</td>\n",
       "      <td>0</td>\n",
       "      <td>97.18</td>\n",
       "      <td>91.95</td>\n",
       "    </tr>\n",
       "  </tbody>\n",
       "</table>\n",
       "<p>1 rows × 66 columns</p>\n",
       "</div>"
      ],
      "text/plain": [
       "   system.network.sent  system.gpu.0.powerPercent  system.network.recv  \\\n",
       "0           1041428150                      68.13             29391158   \n",
       "\n",
       "   system.gpu.7.powerWatts  system.gpu.5.temp  system.gpu.2.temp  \\\n",
       "0                    49.65              61.73                 26   \n",
       "\n",
       "   system.gpu.1.temp  system.gpu.process.7.powerWatts  system.gpu.3.gpu  \\\n",
       "0              83.09                            49.65             98.27   \n",
       "\n",
       "   system.gpu.4.memory  ...  system.gpu.2.gpu  system.gpu.5.powerPercent  \\\n",
       "0                 4.82  ...                 0                       51.1   \n",
       "\n",
       "   system.gpu.3.temp  system.gpu.1.powerPercent  system.gpu.2.powerPercent  \\\n",
       "0              60.18                      92.37                       0.26   \n",
       "\n",
       "   system.gpu.0.memoryAllocated  _timestamp  system.gpu.7.memory  \\\n",
       "0                          95.8  1649079953                    0   \n",
       "\n",
       "   system.gpu.6.gpu  system.gpu.7.memoryAllocated  \n",
       "0             97.18                         91.95  \n",
       "\n",
       "[1 rows x 66 columns]"
      ]
     },
     "execution_count": 13,
     "metadata": {},
     "output_type": "execute_result"
    }
   ],
   "source": [
    "history = run.scan_history()  # chunks of 500 steps\n",
    "losses = [row[\"loss\"] for row in history]"
   ]
  },
  {
   "cell_type": "code",
   "execution_count": 15,
   "metadata": {},
   "outputs": [
    {
     "data": {
      "text/html": [
       "Tracking run with wandb version 0.12.12"
      ],
      "text/plain": [
       "<IPython.core.display.HTML object>"
      ]
     },
     "metadata": {},
     "output_type": "display_data"
    },
    {
     "data": {
      "text/html": [
       "Run data is saved locally in <code>/home/amawi/projects/mol-td/testing/wandb/run-20220406_165702-2licwey1</code>"
      ],
      "text/plain": [
       "<IPython.core.display.HTML object>"
      ]
     },
     "metadata": {},
     "output_type": "display_data"
    },
    {
     "data": {
      "text/html": [
       "Syncing run <strong><a href=\"https://wandb.ai/xmax1/junk/runs/2licwey1\" target=\"_blank\">nemesis-unimatrix-9</a></strong> to <a href=\"https://wandb.ai/xmax1/junk\" target=\"_blank\">Weights & Biases</a> (<a href=\"https://wandb.me/run\" target=\"_blank\">docs</a>)<br/>"
      ],
      "text/plain": [
       "<IPython.core.display.HTML object>"
      ]
     },
     "metadata": {},
     "output_type": "display_data"
    },
    {
     "name": "stdout",
     "output_type": "stream",
     "text": [
      "nemesis-unimatrix-9\n"
     ]
    },
    {
     "name": "stderr",
     "output_type": "stream",
     "text": [
      "WARNING:root:Converting video data to uint8\n"
     ]
    },
    {
     "name": "stdout",
     "output_type": "stream",
     "text": [
      "\n"
     ]
    },
    {
     "data": {
      "text/html": [
       "Waiting for W&B process to finish... <strong style=\"color:green\">(success).</strong>"
      ],
      "text/plain": [
       "<IPython.core.display.HTML object>"
      ]
     },
     "metadata": {},
     "output_type": "display_data"
    },
    {
     "data": {
      "text/html": [
       "Synced <strong style=\"color:#cdcd00\">nemesis-unimatrix-9</strong>: <a href=\"https://wandb.ai/xmax1/junk/runs/2licwey1\" target=\"_blank\">https://wandb.ai/xmax1/junk/runs/2licwey1</a><br/>Synced 6 W&B file(s), 1 media file(s), 0 artifact file(s) and 0 other file(s)"
      ],
      "text/plain": [
       "<IPython.core.display.HTML object>"
      ]
     },
     "metadata": {},
     "output_type": "display_data"
    },
    {
     "data": {
      "text/html": [
       "Find logs at: <code>./wandb/run-20220406_165702-2licwey1/logs</code>"
      ],
      "text/plain": [
       "<IPython.core.display.HTML object>"
      ]
     },
     "metadata": {},
     "output_type": "display_data"
    },
    {
     "data": {
      "image/png": "[encoded data removed]",
      "text/plain": [
       "<Figure size 432x288 with 1 Axes>"
      ]
     },
     "metadata": {
      "needs_background": "light"
     },
     "output_type": "display_data"
    },
    {
     "data": {
      "image/png": "[encoded data removed]",
      "text/plain": [
       "<Figure size 432x288 with 1 Axes>"
      ]
     },
     "metadata": {
      "needs_background": "light"
     },
     "output_type": "display_data"
    },
    {
     "data": {
      "image/png": "[encoded data removed]",
      "text/plain": [
       "<Figure size 432x288 with 1 Axes>"
      ]
     },
     "metadata": {
      "needs_background": "light"
     },
     "output_type": "display_data"
    },
    {
     "data": {
      "image/png": "[encoded data removed]",
      "text/plain": [
       "<Figure size 432x288 with 1 Axes>"
      ]
     },
     "metadata": {
      "needs_background": "light"
     },
     "output_type": "display_data"
    },
    {
     "data": {
      "image/png": "[encoded data removed]",
      "text/plain": [
       "<Figure size 432x288 with 1 Axes>"
      ]
     },
     "metadata": {
      "needs_background": "light"
     },
     "output_type": "display_data"
    },
    {
     "data": {
      "image/png": "[encoded data removed]",
      "text/plain": [
       "<Figure size 432x288 with 1 Axes>"
      ]
     },
     "metadata": {
      "needs_background": "light"
     },
     "output_type": "display_data"
    },
    {
     "data": {
      "image/png": "[encoded data removed]",
      "text/plain": [
       "<Figure size 432x288 with 1 Axes>"
      ]
     },
     "metadata": {
      "needs_background": "light"
     },
     "output_type": "display_data"
    },
    {
     "data": {
      "image/png": "[encoded data removed]",
      "text/plain": [
       "<Figure size 432x288 with 1 Axes>"
      ]
     },
     "metadata": {
      "needs_background": "light"
     },
     "output_type": "display_data"
    },
    {
     "data": {
      "image/png": "[encoded data removed]",
      "text/plain": [
       "<Figure size 432x288 with 1 Axes>"
      ]
     },
     "metadata": {
      "needs_background": "light"
     },
     "output_type": "display_data"
    },
    {
     "data": {
      "image/png": "[encoded data removed]",
      "text/plain": [
       "<Figure size 432x288 with 1 Axes>"
      ]
     },
     "metadata": {
      "needs_background": "light"
     },
     "output_type": "display_data"
    }
   ],
   "source": [
    "from mol_td.utils import log_video\n",
    "from mol_td.config import Config\n",
    "import wandb\n",
    "import matplotlib.pyplot as plt\n",
    "import numpy as np\n",
    "\n",
    "cfg = Config()\n",
    "data = cfg.load_data('/home/amawi/projects/mol-td/data/uracil_dft.npz')\n",
    "n_t = 10\n",
    "n_batch, remainder = divmod(len(data), n_t)\n",
    "data = data[:-remainder] if remainder > 0 else data\n",
    "data = data.reshape((n_batch, n_t, -1))\n",
    "\n",
    "run = wandb.init(project='junk',\n",
    "                 entity='xmax1')\n",
    "print(run.name)\n",
    "\n",
    "with run:\n",
    "    video = log_video(data[0][..., :-cfg.n_atoms], 'data_video', atoms=data[0, 0, -cfg.n_atoms:])\n",
    "\n",
    "for im in video:\n",
    "    plt.imshow(im)\n",
    "    plt.show()\n"
   ]
  },
  {
   "cell_type": "code",
   "execution_count": 21,
   "metadata": {},
   "outputs": [
    {
     "data": {
      "text/html": [
       "Tracking run with wandb version 0.12.12"
      ],
      "text/plain": [
       "<IPython.core.display.HTML object>"
      ]
     },
     "metadata": {},
     "output_type": "display_data"
    },
    {
     "data": {
      "text/html": [
       "Run data is saved locally in <code>/home/amawi/projects/mol-td/testing/wandb/run-20220406_170527-1km6gxig</code>"
      ],
      "text/plain": [
       "<IPython.core.display.HTML object>"
      ]
     },
     "metadata": {},
     "output_type": "display_data"
    },
    {
     "data": {
      "text/html": [
       "Syncing run <strong><a href=\"https://wandb.ai/xmax1/junk/runs/1km6gxig\" target=\"_blank\">doctor-roddenberry-13</a></strong> to <a href=\"https://wandb.ai/xmax1/junk\" target=\"_blank\">Weights & Biases</a> (<a href=\"https://wandb.me/run\" target=\"_blank\">docs</a>)<br/>"
      ],
      "text/plain": [
       "<IPython.core.display.HTML object>"
      ]
     },
     "metadata": {},
     "output_type": "display_data"
    },
    {
     "name": "stderr",
     "output_type": "stream",
     "text": [
      "WARNING:root:Converting video data to uint8\n",
      "WARNING:root:Converting video data to uint8\n",
      "WARNING:root:Converting video data to uint8\n",
      "WARNING:root:Converting video data to uint8\n",
      "WARNING:root:Converting video data to uint8\n"
     ]
    },
    {
     "name": "stdout",
     "output_type": "stream",
     "text": [
      "\n"
     ]
    },
    {
     "data": {
      "text/html": [
       "Waiting for W&B process to finish... <strong style=\"color:green\">(success).</strong>"
      ],
      "text/plain": [
       "<IPython.core.display.HTML object>"
      ]
     },
     "metadata": {},
     "output_type": "display_data"
    },
    {
     "data": {
      "text/html": [
       "Synced <strong style=\"color:#cdcd00\">doctor-roddenberry-13</strong>: <a href=\"https://wandb.ai/xmax1/junk/runs/1km6gxig\" target=\"_blank\">https://wandb.ai/xmax1/junk/runs/1km6gxig</a><br/>Synced 6 W&B file(s), 5 media file(s), 0 artifact file(s) and 0 other file(s)"
      ],
      "text/plain": [
       "<IPython.core.display.HTML object>"
      ]
     },
     "metadata": {},
     "output_type": "display_data"
    },
    {
     "data": {
      "text/html": [
       "Find logs at: <code>./wandb/run-20220406_170527-1km6gxig/logs</code>"
      ],
      "text/plain": [
       "<IPython.core.display.HTML object>"
      ]
     },
     "metadata": {},
     "output_type": "display_data"
    }
   ],
   "source": [
    "\n",
    "run = wandb.init(project='junk', entity='xmax1')\n",
    "\n",
    "with run:\n",
    "    white = np.ones((10, 4, 10, 10)) * 255\n",
    "    wandb.log({'white': wandb.Video(white.astype(int), fps=4)})\n",
    "    black = np.ones((10, 4, 10, 10)) * 0\n",
    "    wandb.log({'black': wandb.Video(black.astype(int), fps=4)})\n",
    "    grey = np.ones((10, 4, 10, 10)) * 120\n",
    "    wandb.log({'grey': wandb.Video(grey.astype(int), fps=4)})\n",
    "    grey[:, -1, ...] = 50 \n",
    "    wandb.log({'should_be_faded_grey': wandb.Video(grey.astype(int), fps=4)})\n",
    "    black[:, -1, ...] = 0 \n",
    "    wandb.log({'should_be_white': wandb.Video(black.astype(int), fps=4)})\n",
    "    \n",
    "\n"
   ]
  },
  {
   "cell_type": "code",
   "execution_count": 20,
   "metadata": {},
   "outputs": [],
   "source": [
    "run.finish()"
   ]
  },
  {
   "cell_type": "code",
   "execution_count": 10,
   "metadata": {},
   "outputs": [
    {
     "name": "stdout",
     "output_type": "stream",
     "text": [
      "0 0\n",
      "0 (0, 84)\n"
     ]
    },
    {
     "ename": "ValueError",
     "evalue": "cannot reshape array of size 0 into shape (0,5,newaxis)",
     "output_type": "error",
     "traceback": [
      "\u001b[0;31m---------------------------------------------------------------------------\u001b[0m",
      "\u001b[0;31mValueError\u001b[0m                                Traceback (most recent call last)",
      "\u001b[1;32m/home/amawi/projects/mol-td/testing/test_wandb.ipynb Cell 7'\u001b[0m in \u001b[0;36m<cell line: 8>\u001b[0;34m()\u001b[0m\n\u001b[1;32m      <a href='vscode-notebook-cell://ssh-remote%2Btitan02.compute.dtu.dk/home/amawi/projects/mol-td/testing/test_wandb.ipynb#ch0000004vscode-remote?line=4'>5</a>\u001b[0m data \u001b[39m=\u001b[39m data[:\u001b[39m-\u001b[39mremainder] \u001b[39mif\u001b[39;00m remainder \u001b[39m>\u001b[39m \u001b[39m0\u001b[39m \u001b[39melse\u001b[39;00m data\n\u001b[1;32m      <a href='vscode-notebook-cell://ssh-remote%2Btitan02.compute.dtu.dk/home/amawi/projects/mol-td/testing/test_wandb.ipynb#ch0000004vscode-remote?line=5'>6</a>\u001b[0m \u001b[39mprint\u001b[39m(n_batch, data\u001b[39m.\u001b[39mshape)\n\u001b[0;32m----> <a href='vscode-notebook-cell://ssh-remote%2Btitan02.compute.dtu.dk/home/amawi/projects/mol-td/testing/test_wandb.ipynb#ch0000004vscode-remote?line=7'>8</a>\u001b[0m data \u001b[39m=\u001b[39m data\u001b[39m.\u001b[39;49mreshape((n_batch, n_t, \u001b[39m-\u001b[39;49m\u001b[39m1\u001b[39;49m))\n\u001b[1;32m     <a href='vscode-notebook-cell://ssh-remote%2Btitan02.compute.dtu.dk/home/amawi/projects/mol-td/testing/test_wandb.ipynb#ch0000004vscode-remote?line=9'>10</a>\u001b[0m run \u001b[39m=\u001b[39m wandb\u001b[39m.\u001b[39minit(project\u001b[39m=\u001b[39m\u001b[39m'\u001b[39m\u001b[39mtest\u001b[39m\u001b[39m'\u001b[39m, \n\u001b[1;32m     <a href='vscode-notebook-cell://ssh-remote%2Btitan02.compute.dtu.dk/home/amawi/projects/mol-td/testing/test_wandb.ipynb#ch0000004vscode-remote?line=10'>11</a>\u001b[0m                  \u001b[39mid\u001b[39m\u001b[39m=\u001b[39m\u001b[39m'\u001b[39m\u001b[39mvideo_test\u001b[39m\u001b[39m'\u001b[39m, \n\u001b[1;32m     <a href='vscode-notebook-cell://ssh-remote%2Btitan02.compute.dtu.dk/home/amawi/projects/mol-td/testing/test_wandb.ipynb#ch0000004vscode-remote?line=11'>12</a>\u001b[0m                  entity\u001b[39m=\u001b[39m\u001b[39m'\u001b[39m\u001b[39mxmax1\u001b[39m\u001b[39m'\u001b[39m)\n\u001b[1;32m     <a href='vscode-notebook-cell://ssh-remote%2Btitan02.compute.dtu.dk/home/amawi/projects/mol-td/testing/test_wandb.ipynb#ch0000004vscode-remote?line=13'>14</a>\u001b[0m \u001b[39mprint\u001b[39m(data[\u001b[39m0\u001b[39m]\u001b[39m.\u001b[39mshape)\n",
      "\u001b[0;31mValueError\u001b[0m: cannot reshape array of size 0 into shape (0,5,newaxis)"
     ]
    }
   ],
   "source": []
  },
  {
   "cell_type": "code",
   "execution_count": null,
   "metadata": {},
   "outputs": [],
   "source": []
  }
 ],
 "metadata": {
  "interpreter": {
   "hash": "a176005efc6340d6f651f92e427305c0c77418f591408071800ce94934a5505a"
  },
  "kernelspec": {
   "display_name": "Python 3.10.3 ('td')",
   "language": "python",
   "name": "python3"
  },
  "language_info": {
   "codemirror_mode": {
    "name": "ipython",
    "version": 3
   },
   "file_extension": ".py",
   "mimetype": "text/x-python",
   "name": "python",
   "nbconvert_exporter": "python",
   "pygments_lexer": "ipython3",
   "version": "3.10.3"
  },
  "orig_nbformat": 4
 },
 "nbformat": 4,
 "nbformat_minor": 2
}
