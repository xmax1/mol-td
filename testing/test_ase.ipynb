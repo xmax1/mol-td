{
 "cells": [
  {
   "cell_type": "code",
   "execution_count": null,
   "metadata": {},
   "outputs": [],
   "source": [
    "%load_ext autoreload\n",
    "%autoreload 2"
   ]
  },
  {
   "cell_type": "code",
   "execution_count": 17,
   "metadata": {},
   "outputs": [],
   "source": [
    "from ase.io import read, write\n",
    "from ase.visualize import view, ngl\n",
    "\n",
    "from mol_td import *"
   ]
  },
  {
   "cell_type": "code",
   "execution_count": 20,
   "metadata": {},
   "outputs": [],
   "source": [
    "atoms = read(uracil_xyz)\n",
    "view(atoms, viewer='x3d')  # x3d for jupyter notebook\n",
    "write('uracil.png', atoms)\n"
   ]
  },
  {
   "cell_type": "code",
   "execution_count": 18,
   "metadata": {},
   "outputs": [
    {
     "ename": "ModuleNotFoundError",
     "evalue": "No module named 'nglview'",
     "output_type": "error",
     "traceback": [
      "\u001b[0;31m---------------------------------------------------------------------------\u001b[0m",
      "\u001b[0;31mModuleNotFoundError\u001b[0m                       Traceback (most recent call last)",
      "\u001b[1;32m/home/amawi/projects/mol-td/testing/test_ase.ipynb Cell 7'\u001b[0m in \u001b[0;36m<cell line: 1>\u001b[0;34m()\u001b[0m\n\u001b[0;32m----> <a href='vscode-notebook-cell://ssh-remote%2Btitan02.compute.dtu.dk/home/amawi/projects/mol-td/testing/test_ase.ipynb#ch0000009vscode-remote?line=0'>1</a>\u001b[0m ngl\u001b[39m.\u001b[39;49mNGLDisplay(uracil, xsize\u001b[39m=\u001b[39;49m\u001b[39m100\u001b[39;49m, ysize\u001b[39m=\u001b[39;49m\u001b[39m100\u001b[39;49m)\n",
      "File \u001b[0;32m~/.local/lib/python3.10/site-packages/ase/visualize/ngl.py:14\u001b[0m, in \u001b[0;36mNGLDisplay.__init__\u001b[0;34m(self, atoms, xsize, ysize)\u001b[0m\n\u001b[1;32m     <a href='file:///home/amawi/.local/lib/python3.10/site-packages/ase/visualize/ngl.py?line=12'>13</a>\u001b[0m \u001b[39mdef\u001b[39;00m \u001b[39m__init__\u001b[39m(\u001b[39mself\u001b[39m, atoms, xsize\u001b[39m=\u001b[39m\u001b[39m500\u001b[39m, ysize\u001b[39m=\u001b[39m\u001b[39m500\u001b[39m):\n\u001b[0;32m---> <a href='file:///home/amawi/.local/lib/python3.10/site-packages/ase/visualize/ngl.py?line=13'>14</a>\u001b[0m     \u001b[39mimport\u001b[39;00m \u001b[39mnglview\u001b[39;00m\n\u001b[1;32m     <a href='file:///home/amawi/.local/lib/python3.10/site-packages/ase/visualize/ngl.py?line=14'>15</a>\u001b[0m     \u001b[39mimport\u001b[39;00m \u001b[39mnglview\u001b[39;00m\u001b[39m.\u001b[39;00m\u001b[39mcolor\u001b[39;00m\n\u001b[1;32m     <a href='file:///home/amawi/.local/lib/python3.10/site-packages/ase/visualize/ngl.py?line=16'>17</a>\u001b[0m     \u001b[39mfrom\u001b[39;00m \u001b[39mipywidgets\u001b[39;00m \u001b[39mimport\u001b[39;00m Dropdown, FloatSlider, IntSlider, HBox, VBox\n",
      "\u001b[0;31mModuleNotFoundError\u001b[0m: No module named 'nglview'"
     ]
    }
   ],
   "source": [
    "ngl.NGLDisplay(uracil, xsize=100, ysize=100)"
   ]
  },
  {
   "cell_type": "code",
   "execution_count": null,
   "metadata": {},
   "outputs": [],
   "source": []
  }
 ],
 "metadata": {
  "interpreter": {
   "hash": "a176005efc6340d6f651f92e427305c0c77418f591408071800ce94934a5505a"
  },
  "kernelspec": {
   "display_name": "Python 3.10.3 ('td')",
   "language": "python",
   "name": "python3"
  },
  "language_info": {
   "codemirror_mode": {
    "name": "ipython",
    "version": 3
   },
   "file_extension": ".py",
   "mimetype": "text/x-python",
   "name": "python",
   "nbconvert_exporter": "python",
   "pygments_lexer": "ipython3",
   "version": "3.10.3"
  },
  "orig_nbformat": 4
 },
 "nbformat": 4,
 "nbformat_minor": 2
}
