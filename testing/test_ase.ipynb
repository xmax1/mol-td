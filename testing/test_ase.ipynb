{
 "cells": [
  {
   "cell_type": "code",
   "execution_count": 1,
   "metadata": {},
   "outputs": [],
   "source": [
    "%load_ext autoreload\n",
    "%autoreload 2"
   ]
  },
  {
   "cell_type": "code",
   "execution_count": 11,
   "metadata": {},
   "outputs": [],
   "source": [
    "from ase.io import read, write\n",
    "from ase.visualize import view, ngl\n",
    "from ase import Atoms\n",
    "from mol_td import *\n"
   ]
  },
  {
   "cell_type": "code",
   "execution_count": 7,
   "metadata": {},
   "outputs": [
    {
     "name": "stderr",
     "output_type": "stream",
     "text": [
      "2022-04-05 08:52:26.644665: E external/org_tensorflow/tensorflow/stream_executor/cuda/cuda_driver.cc:271] failed call to cuInit: CUDA_ERROR_NO_DEVICE: no CUDA-capable device is detected\n",
      "WARNING:absl:No GPU/TPU found, falling back to CPU. (Set TF_CPP_MIN_LOG_LEVEL=0 and rerun for more info.)\n"
     ]
    },
    {
     "name": "stdout",
     "output_type": "stream",
     "text": [
      "(133770, 12, 3) (133770, 12, 3) (133770, 12, 1)\n"
     ]
    }
   ],
   "source": [
    "data, raw_data = load_data('/home/amawi/projects/mol-td/data/uracil_dft.npz')\n"
   ]
  },
  {
   "cell_type": "code",
   "execution_count": 28,
   "metadata": {},
   "outputs": [
    {
     "data": {
      "text/plain": [
       "array([6, 6, 7, 6, 7, 6, 8, 8, 1, 1, 1, 1], dtype=uint8)"
      ]
     },
     "execution_count": 28,
     "metadata": {},
     "output_type": "execute_result"
    }
   ],
   "source": [
    "raw_data['z']"
   ]
  },
  {
   "cell_type": "code",
   "execution_count": 12,
   "metadata": {},
   "outputs": [],
   "source": [
    "atomic_numbers = raw_data['z']\n",
    "positions = raw_data['R'][0]\n",
    "atoms = Atoms(atomic_numbers, positions)\n",
    "write('tmp.png', atoms)"
   ]
  },
  {
   "cell_type": "code",
   "execution_count": 53,
   "metadata": {},
   "outputs": [
    {
     "name": "stdout",
     "output_type": "stream",
     "text": [
      "[0.   0.05 0.   0.   0.   0.   0.15 0.25 0.35 0.   0.   0.  ]\n",
      "[1 6 7 8]\n",
      "[0.  0.1 0.2 0.3]\n"
     ]
    }
   ],
   "source": [
    "print(lookup_table)\n",
    "print(unique)\n",
    "print(idxs[:len(unique)] / float(n_colors))"
   ]
  },
  {
   "cell_type": "code",
   "execution_count": 52,
   "metadata": {},
   "outputs": [
    {
     "name": "stdout",
     "output_type": "stream",
     "text": [
      "(1.0, 0.4980392156862745, 0.054901960784313725, 1.0)\n",
      "(1.0, 0.4980392156862745, 0.054901960784313725, 1.0)\n",
      "(0.17254901960784313, 0.6274509803921569, 0.17254901960784313, 1.0)\n",
      "(1.0, 0.4980392156862745, 0.054901960784313725, 1.0)\n",
      "(0.17254901960784313, 0.6274509803921569, 0.17254901960784313, 1.0)\n",
      "(1.0, 0.4980392156862745, 0.054901960784313725, 1.0)\n",
      "(0.8392156862745098, 0.15294117647058825, 0.1568627450980392, 1.0)\n",
      "(0.8392156862745098, 0.15294117647058825, 0.1568627450980392, 1.0)\n",
      "(0.12156862745098039, 0.4666666666666667, 0.7058823529411765, 1.0)\n",
      "(0.12156862745098039, 0.4666666666666667, 0.7058823529411765, 1.0)\n",
      "(0.12156862745098039, 0.4666666666666667, 0.7058823529411765, 1.0)\n",
      "(0.12156862745098039, 0.4666666666666667, 0.7058823529411765, 1.0)\n"
     ]
    },
    {
     "data": {
      "image/png": "[encoded data removed]",
      "text/plain": [
       "<Figure size 432x288 with 1 Axes>"
      ]
     },
     "metadata": {
      "needs_background": "light"
     },
     "output_type": "display_data"
    },
    {
     "name": "stdout",
     "output_type": "stream",
     "text": [
      "0.0\n"
     ]
    }
   ],
   "source": [
    "import matplotlib.pyplot as plt\n",
    "from matplotlib.backends.backend_agg import FigureCanvasAgg as FigureCanvas\n",
    "import numpy as np\n",
    "from matplotlib.backends.backend_agg import FigureCanvasAgg\n",
    "import matplotlib.image as img\n",
    "from matplotlib.cm import get_cmap\n",
    "\n",
    "n_colors = 10\n",
    "cmap = get_cmap('tab10')\n",
    "unique = np.unique(raw_data['z'])\n",
    "idxs = np.arange(n_colors)\n",
    "lookup_table = np.zeros(len(raw_data['z']))\n",
    "lookup_table[unique] += (idxs[:len(unique)] / float(n_colors)) + 0.5 / float(n_colors)\n",
    "\n",
    "fig = plt.figure()\n",
    "ax = fig.add_subplot(projection='3d')\n",
    "ax.set_axis_off()\n",
    "\n",
    "for position, z in zip(positions, raw_data['z']):\n",
    "    c = cmap(lookup_table[int(z)])\n",
    "    print(c)\n",
    "    ax.scatter(*(position), marker='o', color=cmap(lookup_table[int(z)]), s=int(z))\n",
    "\n",
    "fig.tight_layout(pad=0)\n",
    "ax.margins(0)\n",
    "plt.savefig('tmp.png')\n",
    "plt.show()\n",
    "arr1 = img.imread('tmp.png') * 255\n",
    "\n",
    "canvas = FigureCanvasAgg(fig)\n",
    "canvas.draw()\n",
    "buf = canvas.buffer_rgba()\n",
    "arr2 = np.asarray(buf)\n",
    "\n",
    "print(np.mean(np.abs(arr2-arr1)))\n",
    "    \n",
    "\n",
    "\n",
    "# for z, position in zip(data['z'], positions):\n",
    "#     fig = plt.figure()\n",
    "#     ax = fig.add_subplot(projection='3d')\n",
    "#     ax.set_axis_off()\n",
    "#     ax.scatter(*(positions[:, i] for i in range(3)), marker='o')\n",
    "#     fig.tight_layout(pad=0)\n",
    "#     ax.margins(0)\n",
    "#     plt.savefig('tmp.png')\n",
    "#     arr1 = img.imread('tmp.png') * 255\n",
    "\n",
    "#     canvas = FigureCanvasAgg(fig)\n",
    "#     canvas.draw()\n",
    "#     buf = canvas.buffer_rgba()\n",
    "#     arr2 = np.asarray(buf)\n",
    "\n",
    "#     print(np.mean(np.abs(arr2-arr1)))\n",
    "\n",
    "# canvas.draw()\n",
    "# buf = canvas.buffer_rgba()\n",
    "# # convert to a NumPy array\n",
    "# X = np.asarray(buf)\n",
    "# fig.canvas.draw()\n",
    "# canvas = FigureCanvas(fig)\n",
    "# canvas.draw()       # draw the canvas, cache the renderer\n",
    "# image = np.frombuffer(canvas.tostring_rgb(), dtype='uint8')\n",
    "\n",
    "\n",
    "\n"
   ]
  },
  {
   "cell_type": "code",
   "execution_count": 25,
   "metadata": {},
   "outputs": [
    {
     "name": "stdout",
     "output_type": "stream",
     "text": [
      "[[[255 255 255   0]\n",
      "  [255 255 255   0]\n",
      "  [255 255 255   0]\n",
      "  ...\n",
      "  [255 255 255   0]\n",
      "  [255 255 255   0]\n",
      "  [255 255 255   0]]\n",
      "\n",
      " [[255 255 255   0]\n",
      "  [255 255 255   0]\n",
      "  [255 255 255   0]\n",
      "  ...\n",
      "  [255 255 255   0]\n",
      "  [255 255 255   0]\n",
      "  [255 255 255   0]]\n",
      "\n",
      " [[255 255 255   0]\n",
      "  [255 255 255   0]\n",
      "  [255 255 255   0]\n",
      "  ...\n",
      "  [255 255 255   0]\n",
      "  [255 255 255   0]\n",
      "  [255 255 255   0]]\n",
      "\n",
      " ...\n",
      "\n",
      " [[255 255 255   0]\n",
      "  [255 255 255   0]\n",
      "  [255 255 255   0]\n",
      "  ...\n",
      "  [255 255 255   0]\n",
      "  [255 255 255   0]\n",
      "  [255 255 255   0]]\n",
      "\n",
      " [[255 255 255   0]\n",
      "  [255 255 255   0]\n",
      "  [255 255 255   0]\n",
      "  ...\n",
      "  [255 255 255   0]\n",
      "  [255 255 255   0]\n",
      "  [255 255 255   0]]\n",
      "\n",
      " [[255 255 255   0]\n",
      "  [255 255 255   0]\n",
      "  [255 255 255   0]\n",
      "  ...\n",
      "  [255 255 255   0]\n",
      "  [255 255 255   0]\n",
      "  [255 255 255   0]]]\n"
     ]
    }
   ],
   "source": [
    "print(arr2)"
   ]
  },
  {
   "cell_type": "code",
   "execution_count": 14,
   "metadata": {},
   "outputs": [
    {
     "ename": "NameError",
     "evalue": "name 'uracil_xyz' is not defined",
     "output_type": "error",
     "traceback": [
      "\u001b[0;31m---------------------------------------------------------------------------\u001b[0m",
      "\u001b[0;31mNameError\u001b[0m                                 Traceback (most recent call last)",
      "\u001b[1;32m/home/amawi/projects/mol-td/testing/test_ase.ipynb Cell 6'\u001b[0m in \u001b[0;36m<cell line: 1>\u001b[0;34m()\u001b[0m\n\u001b[0;32m----> <a href='vscode-notebook-cell://ssh-remote%2Btitan02.compute.dtu.dk/home/amawi/projects/mol-td/testing/test_ase.ipynb#ch0000002vscode-remote?line=0'>1</a>\u001b[0m atoms \u001b[39m=\u001b[39m read(uracil_xyz)\n\u001b[1;32m      <a href='vscode-notebook-cell://ssh-remote%2Btitan02.compute.dtu.dk/home/amawi/projects/mol-td/testing/test_ase.ipynb#ch0000002vscode-remote?line=1'>2</a>\u001b[0m x \u001b[39m=\u001b[39m view(atoms, viewer\u001b[39m=\u001b[39m\u001b[39m'\u001b[39m\u001b[39mx3d\u001b[39m\u001b[39m'\u001b[39m)  \u001b[39m# x3d for jupyter notebook\u001b[39;00m\n\u001b[1;32m      <a href='vscode-notebook-cell://ssh-remote%2Btitan02.compute.dtu.dk/home/amawi/projects/mol-td/testing/test_ase.ipynb#ch0000002vscode-remote?line=2'>3</a>\u001b[0m write(\u001b[39m'\u001b[39m\u001b[39muracil.png\u001b[39m\u001b[39m'\u001b[39m, atoms)\n",
      "\u001b[0;31mNameError\u001b[0m: name 'uracil_xyz' is not defined"
     ]
    }
   ],
   "source": [
    "atoms = read(uracil_xyz)\n",
    "view(atoms, viewer='x3d')  # x3d for jupyter notebook\n",
    "write('uracil.png', atoms)\n"
   ]
  },
  {
   "cell_type": "code",
   "execution_count": 17,
   "metadata": {},
   "outputs": [
    {
     "name": "stdout",
     "output_type": "stream",
     "text": [
      "None\n"
     ]
    }
   ],
   "source": []
  },
  {
   "cell_type": "code",
   "execution_count": 18,
   "metadata": {},
   "outputs": [
    {
     "ename": "ModuleNotFoundError",
     "evalue": "No module named 'nglview'",
     "output_type": "error",
     "traceback": [
      "\u001b[0;31m---------------------------------------------------------------------------\u001b[0m",
      "\u001b[0;31mModuleNotFoundError\u001b[0m                       Traceback (most recent call last)",
      "\u001b[1;32m/home/amawi/projects/mol-td/testing/test_ase.ipynb Cell 7'\u001b[0m in \u001b[0;36m<cell line: 1>\u001b[0;34m()\u001b[0m\n\u001b[0;32m----> <a href='vscode-notebook-cell://ssh-remote%2Btitan02.compute.dtu.dk/home/amawi/projects/mol-td/testing/test_ase.ipynb#ch0000009vscode-remote?line=0'>1</a>\u001b[0m ngl\u001b[39m.\u001b[39;49mNGLDisplay(uracil, xsize\u001b[39m=\u001b[39;49m\u001b[39m100\u001b[39;49m, ysize\u001b[39m=\u001b[39;49m\u001b[39m100\u001b[39;49m)\n",
      "File \u001b[0;32m~/.local/lib/python3.10/site-packages/ase/visualize/ngl.py:14\u001b[0m, in \u001b[0;36mNGLDisplay.__init__\u001b[0;34m(self, atoms, xsize, ysize)\u001b[0m\n\u001b[1;32m     <a href='file:///home/amawi/.local/lib/python3.10/site-packages/ase/visualize/ngl.py?line=12'>13</a>\u001b[0m \u001b[39mdef\u001b[39;00m \u001b[39m__init__\u001b[39m(\u001b[39mself\u001b[39m, atoms, xsize\u001b[39m=\u001b[39m\u001b[39m500\u001b[39m, ysize\u001b[39m=\u001b[39m\u001b[39m500\u001b[39m):\n\u001b[0;32m---> <a href='file:///home/amawi/.local/lib/python3.10/site-packages/ase/visualize/ngl.py?line=13'>14</a>\u001b[0m     \u001b[39mimport\u001b[39;00m \u001b[39mnglview\u001b[39;00m\n\u001b[1;32m     <a href='file:///home/amawi/.local/lib/python3.10/site-packages/ase/visualize/ngl.py?line=14'>15</a>\u001b[0m     \u001b[39mimport\u001b[39;00m \u001b[39mnglview\u001b[39;00m\u001b[39m.\u001b[39;00m\u001b[39mcolor\u001b[39;00m\n\u001b[1;32m     <a href='file:///home/amawi/.local/lib/python3.10/site-packages/ase/visualize/ngl.py?line=16'>17</a>\u001b[0m     \u001b[39mfrom\u001b[39;00m \u001b[39mipywidgets\u001b[39;00m \u001b[39mimport\u001b[39;00m Dropdown, FloatSlider, IntSlider, HBox, VBox\n",
      "\u001b[0;31mModuleNotFoundError\u001b[0m: No module named 'nglview'"
     ]
    }
   ],
   "source": [
    "ngl.NGLDisplay(uracil, xsize=100, ysize=100)"
   ]
  },
  {
   "cell_type": "code",
   "execution_count": null,
   "metadata": {},
   "outputs": [],
   "source": [
    "from ase import Atoms\n",
    "d = 2.9\n",
    "L = 10.0\n",
    "wire = Atoms('Au',\n",
    "             positions=[[0, L / 2, L / 2]],\n",
    "             cell=[d, L, L],\n",
    "             pbc=[1, 0, 0])\n",
    "data, raw_data = load_data('/home/amawi/projects/mol-td/data/uracil_dft.npz')\n"
   ]
  }
 ],
 "metadata": {
  "interpreter": {
   "hash": "a176005efc6340d6f651f92e427305c0c77418f591408071800ce94934a5505a"
  },
  "kernelspec": {
   "display_name": "Python 3.10.3 ('td')",
   "language": "python",
   "name": "python3"
  },
  "language_info": {
   "codemirror_mode": {
    "name": "ipython",
    "version": 3
   },
   "file_extension": ".py",
   "mimetype": "text/x-python",
   "name": "python",
   "nbconvert_exporter": "python",
   "pygments_lexer": "ipython3",
   "version": "3.10.3"
  },
  "orig_nbformat": 4
 },
 "nbformat": 4,
 "nbformat_minor": 2
}
