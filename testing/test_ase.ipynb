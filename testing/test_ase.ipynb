{
 "cells": [
  {
   "cell_type": "code",
   "execution_count": 1,
   "metadata": {},
   "outputs": [],
   "source": [
    "%load_ext autoreload\n",
    "%autoreload 2"
   ]
  },
  {
   "cell_type": "code",
   "execution_count": 42,
   "metadata": {},
   "outputs": [],
   "source": [
    "from ase.io import read, write\n",
    "from ase.visualize import view, ngl\n",
    "from ase import Atoms\n",
    "from ase.geometry.analysis import Analysis\n",
    "from mol_td import *\n",
    "import ase\n",
    "import jax.numpy as jnp\n"
   ]
  },
  {
   "cell_type": "code",
   "execution_count": 38,
   "metadata": {},
   "outputs": [
    {
     "name": "stdout",
     "output_type": "stream",
     "text": [
      "Model: SimpleTDVAE                 \n",
      " n_enc_layers: 2                 \n",
      " n_dec_layers: 2 \n",
      " Pos-Lims: ((-2.355283737182617, 2.9329960346221924), (-2.7979094982147217, 2.6029012203216553), (-1.1582574844360352, 1.144334077835083))                 \n",
      " F-Lims: ((-226.28143310546875, 234.85540771484375), (-237.38124084472656, 239.2488555908203), (-100.43793487548828, 113.4931411743164))                 \n",
      " A-Lims: 1 8    \n"
     ]
    }
   ],
   "source": [
    "cfg = Config()\n",
    "positions, forces, atoms = cfg.load_raw_data('/home/amawi/projects/mol-td/data/uracil_dft.npz')\n",
    "n_data, n_atoms = positions.shape[:2]"
   ]
  },
  {
   "cell_type": "code",
   "execution_count": 64,
   "metadata": {},
   "outputs": [
    {
     "name": "stdout",
     "output_type": "stream",
     "text": [
      "[1, 6, 7, 8]\n",
      "16\n",
      "[ 8  9 10 11]\n",
      "[ 8  9 10 11]\n",
      "[ 8  9 10 11]\n",
      "[0 1 3 5]\n",
      "[0 1 3 5]\n",
      "[2 4]\n",
      "[ 8  9 10 11]\n",
      "[0 1 3 5]\n",
      "[2 4]\n",
      "[6 7]\n",
      "H-C\n",
      "(50, 2)\n",
      "H-N\n",
      "(50, 2)\n",
      "H-O\n",
      "(50, 2)\n",
      "C-N\n",
      "(50, 2)\n",
      "C-O\n",
      "(50, 2)\n",
      "N-O\n",
      "(50, 2)\n",
      "H-H\n",
      "(50, 2)\n",
      "C-C\n",
      "(50, 2)\n",
      "N-N\n",
      "(50, 2)\n",
      "O-O\n",
      "(50, 2)\n"
     ]
    }
   ],
   "source": [
    "\n",
    "atoms_list = {1: 'H',\n",
    "         2: 'He',\n",
    "         3: 'Li',\n",
    "         4: 'Be',\n",
    "         5: 'B',\n",
    "         6: 'C',\n",
    "         7: 'N',\n",
    "         8: 'O',\n",
    "         9: 'F',\n",
    "         10: 'Ne',\n",
    "         11: 'Na',\n",
    "         12: 'Mg', \n",
    "         13: 'Al',\n",
    "         14: 'Si'\n",
    "\n",
    "}\n",
    "pos = positions[::100]\n",
    "\n",
    "unique_atoms = [int(a) for a in jnp.unique(atoms).astype(int)]\n",
    "# unique_atoms_names = []\n",
    "print(unique_atoms)\n",
    "from itertools import product, combinations\n",
    "bonds = product(*(tuple(unique_atoms), tuple(unique_atoms))) # gives all combinations\n",
    "print(len(list(bonds)))\n",
    "bonds = list(combinations(unique_atoms, 2))  # only gives unique combinations\n",
    "bonds.extend((x, x) for x in unique_atoms)\n",
    "# print(list(bonds))\n",
    "\n",
    "rbfs = {}\n",
    "for A, B in bonds:\n",
    "    idxsA = np.where(atoms == A)[0]\n",
    "    idxsB = np.where(atoms == B)[0]\n",
    "    print(idxsA)\n",
    "    Ar = pos[:, idxsA, ...][:, :, None, :]\n",
    "    Br = pos[:, idxsB, ...][:, None, :, :]\n",
    "    distances = np.linalg.norm(Ar - Br, axis=-1).reshape(-1)\n",
    "    rbf, x = np.histogram(distances, bins=50, range=(0, np.sqrt(2)))\n",
    "    x = x[:-1] + (x[1] - x[0]) / 2.\n",
    "    rbfs[f'{atoms_list[A]}-{atoms_list[B]}'] = np.stack([x, rbf], axis=-1)\n",
    "\n",
    "\n",
    "\n",
    "\n"
   ]
  },
  {
   "cell_type": "code",
   "execution_count": 41,
   "metadata": {},
   "outputs": [
    {
     "ename": "TypeError",
     "evalue": "only size-1 arrays can be converted to Python scalars",
     "output_type": "error",
     "traceback": [
      "\u001b[0;31m---------------------------------------------------------------------------\u001b[0m",
      "\u001b[0;31mTypeError\u001b[0m                                 Traceback (most recent call last)",
      "\u001b[1;32m/home/amawi/projects/mol-td/testing/test_ase.ipynb Cell 4'\u001b[0m in \u001b[0;36m<cell line: 5>\u001b[0;34m()\u001b[0m\n\u001b[1;32m      <a href='vscode-notebook-cell://ssh-remote%2Btitan02.compute.dtu.dk/home/amawi/projects/mol-td/testing/test_ase.ipynb#ch0000013vscode-remote?line=2'>3</a>\u001b[0m n_dataAse \u001b[39m=\u001b[39m \u001b[39mlen\u001b[39m(positions)\n\u001b[1;32m      <a href='vscode-notebook-cell://ssh-remote%2Btitan02.compute.dtu.dk/home/amawi/projects/mol-td/testing/test_ase.ipynb#ch0000013vscode-remote?line=3'>4</a>\u001b[0m atomsAse \u001b[39m=\u001b[39m np\u001b[39m.\u001b[39mrepeat(atoms[\u001b[39mNone\u001b[39;00m, :], n_dataAse, axis\u001b[39m=\u001b[39m\u001b[39m0\u001b[39m)\n\u001b[0;32m----> <a href='vscode-notebook-cell://ssh-remote%2Btitan02.compute.dtu.dk/home/amawi/projects/mol-td/testing/test_ase.ipynb#ch0000013vscode-remote?line=4'>5</a>\u001b[0m atomsAse \u001b[39m=\u001b[39m Atoms(atomsAse, positionsAse, cell\u001b[39m=\u001b[39;49mnp\u001b[39m.\u001b[39;49mones(\u001b[39m3\u001b[39;49m)\u001b[39m*\u001b[39;49m\u001b[39m99999\u001b[39;49m)\n",
      "File \u001b[0;32m~/.local/lib/python3.10/site-packages/ase/atoms.py:208\u001b[0m, in \u001b[0;36mAtoms.__init__\u001b[0;34m(self, symbols, positions, numbers, tags, momenta, masses, magmoms, charges, scaled_positions, cell, pbc, celldisp, constraint, calculator, info, velocities)\u001b[0m\n\u001b[1;32m    <a href='file:///home/amawi/.local/lib/python3.10/site-packages/ase/atoms.py?line=204'>205</a>\u001b[0m         \u001b[39mraise\u001b[39;00m \u001b[39mTypeError\u001b[39;00m(\n\u001b[1;32m    <a href='file:///home/amawi/.local/lib/python3.10/site-packages/ase/atoms.py?line=205'>206</a>\u001b[0m             \u001b[39m'\u001b[39m\u001b[39mUse only one of \u001b[39m\u001b[39m\"\u001b[39m\u001b[39msymbols\u001b[39m\u001b[39m\"\u001b[39m\u001b[39m and \u001b[39m\u001b[39m\"\u001b[39m\u001b[39mnumbers\u001b[39m\u001b[39m\"\u001b[39m\u001b[39m.\u001b[39m\u001b[39m'\u001b[39m)\n\u001b[1;32m    <a href='file:///home/amawi/.local/lib/python3.10/site-packages/ase/atoms.py?line=206'>207</a>\u001b[0m     \u001b[39melse\u001b[39;00m:\n\u001b[0;32m--> <a href='file:///home/amawi/.local/lib/python3.10/site-packages/ase/atoms.py?line=207'>208</a>\u001b[0m         \u001b[39mself\u001b[39m\u001b[39m.\u001b[39mnew_array(\u001b[39m'\u001b[39m\u001b[39mnumbers\u001b[39m\u001b[39m'\u001b[39m, symbols2numbers(symbols), \u001b[39mint\u001b[39m)\n\u001b[1;32m    <a href='file:///home/amawi/.local/lib/python3.10/site-packages/ase/atoms.py?line=209'>210</a>\u001b[0m \u001b[39mif\u001b[39;00m \u001b[39mself\u001b[39m\u001b[39m.\u001b[39mnumbers\u001b[39m.\u001b[39mndim \u001b[39m!=\u001b[39m \u001b[39m1\u001b[39m:\n\u001b[1;32m    <a href='file:///home/amawi/.local/lib/python3.10/site-packages/ase/atoms.py?line=210'>211</a>\u001b[0m     \u001b[39mraise\u001b[39;00m \u001b[39mValueError\u001b[39;00m(\u001b[39m'\u001b[39m\u001b[39m\"\u001b[39m\u001b[39mnumbers\u001b[39m\u001b[39m\"\u001b[39m\u001b[39m must be 1-dimensional.\u001b[39m\u001b[39m'\u001b[39m)\n",
      "File \u001b[0;32m~/.local/lib/python3.10/site-packages/ase/symbols.py:24\u001b[0m, in \u001b[0;36msymbols2numbers\u001b[0;34m(symbols)\u001b[0m\n\u001b[1;32m     <a href='file:///home/amawi/.local/lib/python3.10/site-packages/ase/symbols.py?line=21'>22</a>\u001b[0m         numbers\u001b[39m.\u001b[39mappend(atomic_numbers[s])\n\u001b[1;32m     <a href='file:///home/amawi/.local/lib/python3.10/site-packages/ase/symbols.py?line=22'>23</a>\u001b[0m     \u001b[39melse\u001b[39;00m:\n\u001b[0;32m---> <a href='file:///home/amawi/.local/lib/python3.10/site-packages/ase/symbols.py?line=23'>24</a>\u001b[0m         numbers\u001b[39m.\u001b[39mappend(\u001b[39mint\u001b[39;49m(s))\n\u001b[1;32m     <a href='file:///home/amawi/.local/lib/python3.10/site-packages/ase/symbols.py?line=24'>25</a>\u001b[0m \u001b[39mreturn\u001b[39;00m numbers\n",
      "\u001b[0;31mTypeError\u001b[0m: only size-1 arrays can be converted to Python scalars"
     ]
    }
   ],
   "source": [
    "# Atoms object as trajectory\n",
    "positionsAse = positions[::100]\n",
    "n_dataAse = len(positions)\n",
    "atomsAse = np.repeat(atoms[None, :], n_dataAse, axis=0)\n",
    "atomsAse = Atoms(atomsAse, positionsAse, cell=np.ones(3)*99999)"
   ]
  },
  {
   "cell_type": "code",
   "execution_count": null,
   "metadata": {},
   "outputs": [],
   "source": [
    "# Trajectory as list\n",
    "positionsAse = positions[::100]\n",
    "n_dataAse = len(positions)\n",
    "trajectory = [Atoms(atoms, p, cell=np.ones(3)*99999) for p in positionsAse]\n",
    "analysis = Analysis(trajectory)\n",
    "rdf = analysis.get_rdf(2, 50)"
   ]
  },
  {
   "cell_type": "code",
   "execution_count": 37,
   "metadata": {},
   "outputs": [
    {
     "name": "stdout",
     "output_type": "stream",
     "text": [
      "Model: SimpleTDVAE                 \n",
      " n_enc_layers: 2                 \n",
      " n_dec_layers: 2 \n",
      " Pos-Lims: ((-2.355283737182617, 2.9329960346221924), (-2.7979094982147217, 2.6029012203216553), (-1.1582574844360352, 1.144334077835083))                 \n",
      " F-Lims: ((-226.28143310546875, 234.85540771484375), (-237.38124084472656, 239.2488555908203), (-100.43793487548828, 113.4931411743164))                 \n",
      " A-Lims: 1 8    \n"
     ]
    },
    {
     "ename": "KeyboardInterrupt",
     "evalue": "",
     "output_type": "error",
     "traceback": [
      "\u001b[0;31m---------------------------------------------------------------------------\u001b[0m",
      "\u001b[0;31mKeyboardInterrupt\u001b[0m                         Traceback (most recent call last)",
      "\u001b[1;32m/home/amawi/projects/mol-td/testing/test_ase.ipynb Cell 3'\u001b[0m in \u001b[0;36m<cell line: 12>\u001b[0;34m()\u001b[0m\n\u001b[1;32m     <a href='vscode-notebook-cell://ssh-remote%2Btitan02.compute.dtu.dk/home/amawi/projects/mol-td/testing/test_ase.ipynb#ch0000002vscode-remote?line=9'>10</a>\u001b[0m trajectory \u001b[39m=\u001b[39m Atoms(atoms, positions\u001b[39m.\u001b[39mreshape((\u001b[39m-\u001b[39m\u001b[39m1\u001b[39m, \u001b[39m3\u001b[39m)), cell\u001b[39m=\u001b[39mnp\u001b[39m.\u001b[39mones(\u001b[39m3\u001b[39m)\u001b[39m*\u001b[39m\u001b[39m99999\u001b[39m)\n\u001b[1;32m     <a href='vscode-notebook-cell://ssh-remote%2Btitan02.compute.dtu.dk/home/amawi/projects/mol-td/testing/test_ase.ipynb#ch0000002vscode-remote?line=10'>11</a>\u001b[0m analysis \u001b[39m=\u001b[39m Analysis(trajectory)\n\u001b[0;32m---> <a href='vscode-notebook-cell://ssh-remote%2Btitan02.compute.dtu.dk/home/amawi/projects/mol-td/testing/test_ase.ipynb#ch0000002vscode-remote?line=11'>12</a>\u001b[0m rdf \u001b[39m=\u001b[39m analysis\u001b[39m.\u001b[39;49mget_rdf(\u001b[39m2\u001b[39;49m, \u001b[39m50\u001b[39;49m)\n",
      "File \u001b[0;32m~/.local/lib/python3.10/site-packages/ase/geometry/analysis.py:616\u001b[0m, in \u001b[0;36mAnalysis.get_rdf\u001b[0;34m(self, rmax, nbins, imageIdx, elements, return_dists)\u001b[0m\n\u001b[1;32m    <a href='file:///home/amawi/.local/lib/python3.10/site-packages/ase/geometry/analysis.py?line=612'>613</a>\u001b[0m     \u001b[39melse\u001b[39;00m:\n\u001b[1;32m    <a href='file:///home/amawi/.local/lib/python3.10/site-packages/ase/geometry/analysis.py?line=613'>614</a>\u001b[0m         \u001b[39mraise\u001b[39;00m \u001b[39mValueError\u001b[39;00m(\u001b[39m\"\u001b[39m\u001b[39mUnsupported type of elements given in ase.geometry.analysis.Analysis.get_rdf!\u001b[39m\u001b[39m\"\u001b[39m)\n\u001b[0;32m--> <a href='file:///home/amawi/.local/lib/python3.10/site-packages/ase/geometry/analysis.py?line=615'>616</a>\u001b[0m     r\u001b[39m.\u001b[39mappend(get_rdf(tmpImage, rmax, nbins, elements\u001b[39m=\u001b[39;49mel, no_dists\u001b[39m=\u001b[39;49m(\u001b[39mnot\u001b[39;49;00m return_dists)))\n\u001b[1;32m    <a href='file:///home/amawi/.local/lib/python3.10/site-packages/ase/geometry/analysis.py?line=616'>617</a>\u001b[0m \u001b[39mreturn\u001b[39;00m r\n",
      "File \u001b[0;32m~/.local/lib/python3.10/site-packages/ase/ga/utilities.py:285\u001b[0m, in \u001b[0;36mget_rdf\u001b[0;34m(atoms, rmax, nbins, distance_matrix, elements, no_dists)\u001b[0m\n\u001b[1;32m    <a href='file:///home/amawi/.local/lib/python3.10/site-packages/ase/ga/utilities.py?line=282'>283</a>\u001b[0m dm \u001b[39m=\u001b[39m distance_matrix\n\u001b[1;32m    <a href='file:///home/amawi/.local/lib/python3.10/site-packages/ase/ga/utilities.py?line=283'>284</a>\u001b[0m \u001b[39mif\u001b[39;00m dm \u001b[39mis\u001b[39;00m \u001b[39mNone\u001b[39;00m:\n\u001b[0;32m--> <a href='file:///home/amawi/.local/lib/python3.10/site-packages/ase/ga/utilities.py?line=284'>285</a>\u001b[0m     dm \u001b[39m=\u001b[39m atoms\u001b[39m.\u001b[39;49mget_all_distances(mic\u001b[39m=\u001b[39;49m\u001b[39mTrue\u001b[39;49;00m)\n\u001b[1;32m    <a href='file:///home/amawi/.local/lib/python3.10/site-packages/ase/ga/utilities.py?line=285'>286</a>\u001b[0m rdf \u001b[39m=\u001b[39m np\u001b[39m.\u001b[39mzeros(nbins \u001b[39m+\u001b[39m \u001b[39m1\u001b[39m)\n\u001b[1;32m    <a href='file:///home/amawi/.local/lib/python3.10/site-packages/ase/ga/utilities.py?line=286'>287</a>\u001b[0m dr \u001b[39m=\u001b[39m \u001b[39mfloat\u001b[39m(rmax \u001b[39m/\u001b[39m nbins)\n",
      "File \u001b[0;32m~/.local/lib/python3.10/site-packages/ase/atoms.py:1775\u001b[0m, in \u001b[0;36mAtoms.get_all_distances\u001b[0;34m(self, mic, vector)\u001b[0m\n\u001b[1;32m   <a href='file:///home/amawi/.local/lib/python3.10/site-packages/ase/atoms.py?line=1771'>1772</a>\u001b[0m     cell \u001b[39m=\u001b[39m \u001b[39mself\u001b[39m\u001b[39m.\u001b[39mcell\n\u001b[1;32m   <a href='file:///home/amawi/.local/lib/python3.10/site-packages/ase/atoms.py?line=1772'>1773</a>\u001b[0m     pbc \u001b[39m=\u001b[39m \u001b[39mself\u001b[39m\u001b[39m.\u001b[39mpbc\n\u001b[0;32m-> <a href='file:///home/amawi/.local/lib/python3.10/site-packages/ase/atoms.py?line=1774'>1775</a>\u001b[0m D, D_len \u001b[39m=\u001b[39m get_distances(R, cell\u001b[39m=\u001b[39;49mcell, pbc\u001b[39m=\u001b[39;49mpbc)\n\u001b[1;32m   <a href='file:///home/amawi/.local/lib/python3.10/site-packages/ase/atoms.py?line=1776'>1777</a>\u001b[0m \u001b[39mif\u001b[39;00m vector:\n\u001b[1;32m   <a href='file:///home/amawi/.local/lib/python3.10/site-packages/ase/atoms.py?line=1777'>1778</a>\u001b[0m     \u001b[39mreturn\u001b[39;00m D\n",
      "File \u001b[0;32m~/.local/lib/python3.10/site-packages/ase/geometry/geometry.py:383\u001b[0m, in \u001b[0;36mget_distances\u001b[0;34m(p1, p2, cell, pbc)\u001b[0m\n\u001b[1;32m    <a href='file:///home/amawi/.local/lib/python3.10/site-packages/ase/geometry/geometry.py?line=379'>380</a>\u001b[0m Dout[(ind1, ind2)] \u001b[39m=\u001b[39m D\n\u001b[1;32m    <a href='file:///home/amawi/.local/lib/python3.10/site-packages/ase/geometry/geometry.py?line=380'>381</a>\u001b[0m Dout \u001b[39m-\u001b[39m\u001b[39m=\u001b[39m np\u001b[39m.\u001b[39mtranspose(Dout, axes\u001b[39m=\u001b[39m(\u001b[39m1\u001b[39m, \u001b[39m0\u001b[39m, \u001b[39m2\u001b[39m))\n\u001b[0;32m--> <a href='file:///home/amawi/.local/lib/python3.10/site-packages/ase/geometry/geometry.py?line=382'>383</a>\u001b[0m Dout_len \u001b[39m=\u001b[39m np\u001b[39m.\u001b[39;49mzeros((np1, np1))\n\u001b[1;32m    <a href='file:///home/amawi/.local/lib/python3.10/site-packages/ase/geometry/geometry.py?line=383'>384</a>\u001b[0m Dout_len[(ind1, ind2)] \u001b[39m=\u001b[39m D_len\n\u001b[1;32m    <a href='file:///home/amawi/.local/lib/python3.10/site-packages/ase/geometry/geometry.py?line=384'>385</a>\u001b[0m Dout_len \u001b[39m+\u001b[39m\u001b[39m=\u001b[39m Dout_len\u001b[39m.\u001b[39mT\n",
      "\u001b[0;31mKeyboardInterrupt\u001b[0m: "
     ]
    }
   ],
   "source": [
    "\n",
    "# atoms = np.repeat(atoms[None, :], n_data, axis=0)\n",
    "# trajectory = [Atoms(atoms, p, cell=np.ones(3)*99999) for p in positions[::100]]\n",
    "positions = positions[::100]\n",
    "n_data = len(positions)\n",
    "atoms = np.repeat(atoms[None, :], n_data, axis=0).reshape((-1))\n",
    "trajectory = Atoms(atoms, positions.reshape((-1, 3)), cell=np.ones(3)*99999)\n",
    "analysis = Analysis(trajectory)\n",
    "rdf = analysis.get_rdf(2, 50)\n",
    "\n",
    "\n"
   ]
  },
  {
   "cell_type": "code",
   "execution_count": 30,
   "metadata": {},
   "outputs": [
    {
     "name": "stdout",
     "output_type": "stream",
     "text": [
      "1338 (50,)\n"
     ]
    },
    {
     "data": {
      "text/plain": [
       "array([[ 1.632 ,  0.2951, -0.0637],\n",
       "       [ 1.4462, -1.0375,  0.0414],\n",
       "       [ 0.1579, -1.5881,  0.1158],\n",
       "       [-1.    , -0.7548,  0.0823],\n",
       "       [-0.8139,  0.6462, -0.028 ],\n",
       "       [ 0.4966,  1.2211, -0.1047],\n",
       "       [-2.1159, -1.2556,  0.1484],\n",
       "       [ 0.5471,  2.4364, -0.1977],\n",
       "       [ 2.282 , -1.7492,  0.0738],\n",
       "       [ 0.0433, -2.5733,  0.1927],\n",
       "       [-1.6241,  1.2299, -0.0514],\n",
       "       [ 2.6363,  0.7286, -0.1219]])"
      ]
     },
     "execution_count": 30,
     "metadata": {},
     "output_type": "execute_result"
    }
   ],
   "source": [
    "print(len(rdf), rdf[0].shape)\n",
    "\n",
    "trajectory[0].positions"
   ]
  },
  {
   "cell_type": "code",
   "execution_count": 32,
   "metadata": {},
   "outputs": [
    {
     "data": {
      "text/plain": [
       "1337.7"
      ]
     },
     "execution_count": 32,
     "metadata": {},
     "output_type": "execute_result"
    }
   ],
   "source": [
    "n_data / 100\n"
   ]
  },
  {
   "cell_type": "code",
   "execution_count": 12,
   "metadata": {},
   "outputs": [],
   "source": [
    "atomic_numbers = raw_data['z']\n",
    "positions = raw_data['R'][0]\n",
    "atoms = Atoms(atomic_numbers, positions)\n",
    "write('tmp.png', atoms)"
   ]
  },
  {
   "cell_type": "code",
   "execution_count": 53,
   "metadata": {},
   "outputs": [
    {
     "name": "stdout",
     "output_type": "stream",
     "text": [
      "[0.   0.05 0.   0.   0.   0.   0.15 0.25 0.35 0.   0.   0.  ]\n",
      "[1 6 7 8]\n",
      "[0.  0.1 0.2 0.3]\n"
     ]
    }
   ],
   "source": [
    "print(lookup_table)\n",
    "print(unique)\n",
    "print(idxs[:len(unique)] / float(n_colors))"
   ]
  },
  {
   "cell_type": "code",
   "execution_count": 52,
   "metadata": {},
   "outputs": [
    {
     "name": "stdout",
     "output_type": "stream",
     "text": [
      "(1.0, 0.4980392156862745, 0.054901960784313725, 1.0)\n",
      "(1.0, 0.4980392156862745, 0.054901960784313725, 1.0)\n",
      "(0.17254901960784313, 0.6274509803921569, 0.17254901960784313, 1.0)\n",
      "(1.0, 0.4980392156862745, 0.054901960784313725, 1.0)\n",
      "(0.17254901960784313, 0.6274509803921569, 0.17254901960784313, 1.0)\n",
      "(1.0, 0.4980392156862745, 0.054901960784313725, 1.0)\n",
      "(0.8392156862745098, 0.15294117647058825, 0.1568627450980392, 1.0)\n",
      "(0.8392156862745098, 0.15294117647058825, 0.1568627450980392, 1.0)\n",
      "(0.12156862745098039, 0.4666666666666667, 0.7058823529411765, 1.0)\n",
      "(0.12156862745098039, 0.4666666666666667, 0.7058823529411765, 1.0)\n",
      "(0.12156862745098039, 0.4666666666666667, 0.7058823529411765, 1.0)\n",
      "(0.12156862745098039, 0.4666666666666667, 0.7058823529411765, 1.0)\n"
     ]
    },
    {
     "data": {
      "image/png": "[encoded data removed]",
      "text/plain": [
       "<Figure size 432x288 with 1 Axes>"
      ]
     },
     "metadata": {
      "needs_background": "light"
     },
     "output_type": "display_data"
    },
    {
     "name": "stdout",
     "output_type": "stream",
     "text": [
      "0.0\n"
     ]
    }
   ],
   "source": [
    "import matplotlib.pyplot as plt\n",
    "from matplotlib.backends.backend_agg import FigureCanvasAgg as FigureCanvas\n",
    "import numpy as np\n",
    "from matplotlib.backends.backend_agg import FigureCanvasAgg\n",
    "import matplotlib.image as img\n",
    "from matplotlib.cm import get_cmap\n",
    "\n",
    "n_colors = 10\n",
    "cmap = get_cmap('tab10')\n",
    "unique = np.unique(raw_data['z'])\n",
    "idxs = np.arange(n_colors)\n",
    "lookup_table = np.zeros(len(raw_data['z']))\n",
    "lookup_table[unique] += (idxs[:len(unique)] / float(n_colors)) + 0.5 / float(n_colors)\n",
    "\n",
    "fig = plt.figure()\n",
    "ax = fig.add_subplot(projection='3d')\n",
    "ax.set_axis_off()\n",
    "\n",
    "for position, z in zip(positions, raw_data['z']):\n",
    "    c = cmap(lookup_table[int(z)])\n",
    "    print(c)\n",
    "    ax.scatter(*(position), marker='o', color=cmap(lookup_table[int(z)]), s=int(z))\n",
    "\n",
    "fig.tight_layout(pad=0)\n",
    "ax.margins(0)\n",
    "plt.savefig('tmp.png')\n",
    "plt.show()\n",
    "arr1 = img.imread('tmp.png') * 255\n",
    "\n",
    "canvas = FigureCanvasAgg(fig)\n",
    "canvas.draw()\n",
    "buf = canvas.buffer_rgba()\n",
    "arr2 = np.asarray(buf)\n",
    "\n",
    "print(np.mean(np.abs(arr2-arr1)))\n",
    "    \n",
    "\n",
    "\n",
    "# for z, position in zip(data['z'], positions):\n",
    "#     fig = plt.figure()\n",
    "#     ax = fig.add_subplot(projection='3d')\n",
    "#     ax.set_axis_off()\n",
    "#     ax.scatter(*(positions[:, i] for i in range(3)), marker='o')\n",
    "#     fig.tight_layout(pad=0)\n",
    "#     ax.margins(0)\n",
    "#     plt.savefig('tmp.png')\n",
    "#     arr1 = img.imread('tmp.png') * 255\n",
    "\n",
    "#     canvas = FigureCanvasAgg(fig)\n",
    "#     canvas.draw()\n",
    "#     buf = canvas.buffer_rgba()\n",
    "#     arr2 = np.asarray(buf)\n",
    "\n",
    "#     print(np.mean(np.abs(arr2-arr1)))\n",
    "\n",
    "# canvas.draw()\n",
    "# buf = canvas.buffer_rgba()\n",
    "# # convert to a NumPy array\n",
    "# X = np.asarray(buf)\n",
    "# fig.canvas.draw()\n",
    "# canvas = FigureCanvas(fig)\n",
    "# canvas.draw()       # draw the canvas, cache the renderer\n",
    "# image = np.frombuffer(canvas.tostring_rgb(), dtype='uint8')\n",
    "\n",
    "\n",
    "\n"
   ]
  },
  {
   "cell_type": "code",
   "execution_count": 25,
   "metadata": {},
   "outputs": [
    {
     "name": "stdout",
     "output_type": "stream",
     "text": [
      "[[[255 255 255   0]\n",
      "  [255 255 255   0]\n",
      "  [255 255 255   0]\n",
      "  ...\n",
      "  [255 255 255   0]\n",
      "  [255 255 255   0]\n",
      "  [255 255 255   0]]\n",
      "\n",
      " [[255 255 255   0]\n",
      "  [255 255 255   0]\n",
      "  [255 255 255   0]\n",
      "  ...\n",
      "  [255 255 255   0]\n",
      "  [255 255 255   0]\n",
      "  [255 255 255   0]]\n",
      "\n",
      " [[255 255 255   0]\n",
      "  [255 255 255   0]\n",
      "  [255 255 255   0]\n",
      "  ...\n",
      "  [255 255 255   0]\n",
      "  [255 255 255   0]\n",
      "  [255 255 255   0]]\n",
      "\n",
      " ...\n",
      "\n",
      " [[255 255 255   0]\n",
      "  [255 255 255   0]\n",
      "  [255 255 255   0]\n",
      "  ...\n",
      "  [255 255 255   0]\n",
      "  [255 255 255   0]\n",
      "  [255 255 255   0]]\n",
      "\n",
      " [[255 255 255   0]\n",
      "  [255 255 255   0]\n",
      "  [255 255 255   0]\n",
      "  ...\n",
      "  [255 255 255   0]\n",
      "  [255 255 255   0]\n",
      "  [255 255 255   0]]\n",
      "\n",
      " [[255 255 255   0]\n",
      "  [255 255 255   0]\n",
      "  [255 255 255   0]\n",
      "  ...\n",
      "  [255 255 255   0]\n",
      "  [255 255 255   0]\n",
      "  [255 255 255   0]]]\n"
     ]
    }
   ],
   "source": [
    "print(arr2)"
   ]
  },
  {
   "cell_type": "code",
   "execution_count": 14,
   "metadata": {},
   "outputs": [
    {
     "ename": "NameError",
     "evalue": "name 'uracil_xyz' is not defined",
     "output_type": "error",
     "traceback": [
      "\u001b[0;31m---------------------------------------------------------------------------\u001b[0m",
      "\u001b[0;31mNameError\u001b[0m                                 Traceback (most recent call last)",
      "\u001b[1;32m/home/amawi/projects/mol-td/testing/test_ase.ipynb Cell 6'\u001b[0m in \u001b[0;36m<cell line: 1>\u001b[0;34m()\u001b[0m\n\u001b[0;32m----> <a href='vscode-notebook-cell://ssh-remote%2Btitan02.compute.dtu.dk/home/amawi/projects/mol-td/testing/test_ase.ipynb#ch0000002vscode-remote?line=0'>1</a>\u001b[0m atoms \u001b[39m=\u001b[39m read(uracil_xyz)\n\u001b[1;32m      <a href='vscode-notebook-cell://ssh-remote%2Btitan02.compute.dtu.dk/home/amawi/projects/mol-td/testing/test_ase.ipynb#ch0000002vscode-remote?line=1'>2</a>\u001b[0m x \u001b[39m=\u001b[39m view(atoms, viewer\u001b[39m=\u001b[39m\u001b[39m'\u001b[39m\u001b[39mx3d\u001b[39m\u001b[39m'\u001b[39m)  \u001b[39m# x3d for jupyter notebook\u001b[39;00m\n\u001b[1;32m      <a href='vscode-notebook-cell://ssh-remote%2Btitan02.compute.dtu.dk/home/amawi/projects/mol-td/testing/test_ase.ipynb#ch0000002vscode-remote?line=2'>3</a>\u001b[0m write(\u001b[39m'\u001b[39m\u001b[39muracil.png\u001b[39m\u001b[39m'\u001b[39m, atoms)\n",
      "\u001b[0;31mNameError\u001b[0m: name 'uracil_xyz' is not defined"
     ]
    }
   ],
   "source": [
    "atoms = read(uracil_xyz)\n",
    "view(atoms, viewer='x3d')  # x3d for jupyter notebook\n",
    "write('uracil.png', atoms)\n"
   ]
  },
  {
   "cell_type": "code",
   "execution_count": 17,
   "metadata": {},
   "outputs": [
    {
     "name": "stdout",
     "output_type": "stream",
     "text": [
      "None\n"
     ]
    }
   ],
   "source": []
  },
  {
   "cell_type": "code",
   "execution_count": 18,
   "metadata": {},
   "outputs": [
    {
     "ename": "ModuleNotFoundError",
     "evalue": "No module named 'nglview'",
     "output_type": "error",
     "traceback": [
      "\u001b[0;31m---------------------------------------------------------------------------\u001b[0m",
      "\u001b[0;31mModuleNotFoundError\u001b[0m                       Traceback (most recent call last)",
      "\u001b[1;32m/home/amawi/projects/mol-td/testing/test_ase.ipynb Cell 7'\u001b[0m in \u001b[0;36m<cell line: 1>\u001b[0;34m()\u001b[0m\n\u001b[0;32m----> <a href='vscode-notebook-cell://ssh-remote%2Btitan02.compute.dtu.dk/home/amawi/projects/mol-td/testing/test_ase.ipynb#ch0000009vscode-remote?line=0'>1</a>\u001b[0m ngl\u001b[39m.\u001b[39;49mNGLDisplay(uracil, xsize\u001b[39m=\u001b[39;49m\u001b[39m100\u001b[39;49m, ysize\u001b[39m=\u001b[39;49m\u001b[39m100\u001b[39;49m)\n",
      "File \u001b[0;32m~/.local/lib/python3.10/site-packages/ase/visualize/ngl.py:14\u001b[0m, in \u001b[0;36mNGLDisplay.__init__\u001b[0;34m(self, atoms, xsize, ysize)\u001b[0m\n\u001b[1;32m     <a href='file:///home/amawi/.local/lib/python3.10/site-packages/ase/visualize/ngl.py?line=12'>13</a>\u001b[0m \u001b[39mdef\u001b[39;00m \u001b[39m__init__\u001b[39m(\u001b[39mself\u001b[39m, atoms, xsize\u001b[39m=\u001b[39m\u001b[39m500\u001b[39m, ysize\u001b[39m=\u001b[39m\u001b[39m500\u001b[39m):\n\u001b[0;32m---> <a href='file:///home/amawi/.local/lib/python3.10/site-packages/ase/visualize/ngl.py?line=13'>14</a>\u001b[0m     \u001b[39mimport\u001b[39;00m \u001b[39mnglview\u001b[39;00m\n\u001b[1;32m     <a href='file:///home/amawi/.local/lib/python3.10/site-packages/ase/visualize/ngl.py?line=14'>15</a>\u001b[0m     \u001b[39mimport\u001b[39;00m \u001b[39mnglview\u001b[39;00m\u001b[39m.\u001b[39;00m\u001b[39mcolor\u001b[39;00m\n\u001b[1;32m     <a href='file:///home/amawi/.local/lib/python3.10/site-packages/ase/visualize/ngl.py?line=16'>17</a>\u001b[0m     \u001b[39mfrom\u001b[39;00m \u001b[39mipywidgets\u001b[39;00m \u001b[39mimport\u001b[39;00m Dropdown, FloatSlider, IntSlider, HBox, VBox\n",
      "\u001b[0;31mModuleNotFoundError\u001b[0m: No module named 'nglview'"
     ]
    }
   ],
   "source": [
    "ngl.NGLDisplay(uracil, xsize=100, ysize=100)"
   ]
  },
  {
   "cell_type": "code",
   "execution_count": null,
   "metadata": {},
   "outputs": [],
   "source": [
    "from ase import Atoms\n",
    "d = 2.9\n",
    "L = 10.0\n",
    "wire = Atoms('Au',\n",
    "             positions=[[0, L / 2, L / 2]],\n",
    "             cell=[d, L, L],\n",
    "             pbc=[1, 0, 0])\n",
    "data, raw_data = load_data('/home/amawi/projects/mol-td/data/uracil_dft.npz')\n"
   ]
  }
 ],
 "metadata": {
  "interpreter": {
   "hash": "a176005efc6340d6f651f92e427305c0c77418f591408071800ce94934a5505a"
  },
  "kernelspec": {
   "display_name": "Python 3.10.3 ('td')",
   "language": "python",
   "name": "python3"
  },
  "language_info": {
   "codemirror_mode": {
    "name": "ipython",
    "version": 3
   },
   "file_extension": ".py",
   "mimetype": "text/x-python",
   "name": "python",
   "nbconvert_exporter": "python",
   "pygments_lexer": "ipython3",
   "version": "3.10.3"
  },
  "orig_nbformat": 4
 },
 "nbformat": 4,
 "nbformat_minor": 2
}
