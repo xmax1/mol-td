{
 "cells": [
  {
   "cell_type": "code",
   "execution_count": 9,
   "metadata": {},
   "outputs": [],
   "source": [
    "from jax import numpy as jnp, random as rnd\n",
    "import flax.linen as nn\n",
    "\n",
    "from itertools import product\n"
   ]
  },
  {
   "cell_type": "code",
   "execution_count": null,
   "metadata": {},
   "outputs": [],
   "source": [
    "n_atoms = 5\n"
   ]
  },
  {
   "cell_type": "code",
   "execution_count": 24,
   "metadata": {},
   "outputs": [
    {
     "name": "stdout",
     "output_type": "stream",
     "text": [
      "[DeviceArray([0, 0], dtype=int32), DeviceArray([0, 1], dtype=int32), DeviceArray([0, 2], dtype=int32), DeviceArray([0, 3], dtype=int32), DeviceArray([0, 4], dtype=int32), DeviceArray([1, 0], dtype=int32), DeviceArray([1, 1], dtype=int32), DeviceArray([1, 2], dtype=int32), DeviceArray([1, 3], dtype=int32), DeviceArray([1, 4], dtype=int32), DeviceArray([2, 0], dtype=int32), DeviceArray([2, 1], dtype=int32), DeviceArray([2, 2], dtype=int32), DeviceArray([2, 3], dtype=int32), DeviceArray([2, 4], dtype=int32), DeviceArray([3, 0], dtype=int32), DeviceArray([3, 1], dtype=int32), DeviceArray([3, 2], dtype=int32), DeviceArray([3, 3], dtype=int32), DeviceArray([3, 4], dtype=int32), DeviceArray([4, 0], dtype=int32), DeviceArray([4, 1], dtype=int32), DeviceArray([4, 2], dtype=int32), DeviceArray([4, 3], dtype=int32), DeviceArray([4, 4], dtype=int32)]\n"
     ]
    }
   ],
   "source": [
    "# ADJACENCY MATRIX INITIALISATION\n",
    " \n",
    "idxs = list(range(0, n_atoms))\n",
    "edges = list([list(x) for x in product(idxs, idxs)])\n",
    "edges = jnp.array(edges)\n",
    "x = jnp.zeros((n_atoms, n_atoms))\n",
    "y = x.at[edges].set(1)"
   ]
  },
  {
   "cell_type": "code",
   "execution_count": 25,
   "metadata": {},
   "outputs": [
    {
     "data": {
      "text/plain": [
       "DeviceArray([[1., 1., 1., 1., 1.],\n",
       "             [1., 1., 1., 1., 1.],\n",
       "             [1., 1., 1., 1., 1.],\n",
       "             [1., 1., 1., 1., 1.],\n",
       "             [1., 1., 1., 1., 1.]], dtype=float32)"
      ]
     },
     "execution_count": 25,
     "metadata": {},
     "output_type": "execute_result"
    }
   ],
   "source": []
  },
  {
   "cell_type": "code",
   "execution_count": null,
   "metadata": {},
   "outputs": [],
   "source": []
  }
 ],
 "metadata": {
  "interpreter": {
   "hash": "a176005efc6340d6f651f92e427305c0c77418f591408071800ce94934a5505a"
  },
  "kernelspec": {
   "display_name": "Python 3.10.3 ('td')",
   "language": "python",
   "name": "python3"
  },
  "language_info": {
   "codemirror_mode": {
    "name": "ipython",
    "version": 3
   },
   "file_extension": ".py",
   "mimetype": "text/x-python",
   "name": "python",
   "nbconvert_exporter": "python",
   "pygments_lexer": "ipython3",
   "version": "3.10.3"
  },
  "orig_nbformat": 4
 },
 "nbformat": 4,
 "nbformat_minor": 2
}
